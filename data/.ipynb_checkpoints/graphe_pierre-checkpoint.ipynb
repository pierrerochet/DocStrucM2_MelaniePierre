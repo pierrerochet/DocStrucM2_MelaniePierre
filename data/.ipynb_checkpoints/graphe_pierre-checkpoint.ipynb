{
 "cells": [
  {
   "cell_type": "code",
   "execution_count": 1,
   "metadata": {},
   "outputs": [],
   "source": [
    "import pandas as pd\n",
    "import matplotlib.pyplot as plt\n",
    "import mpld3\n",
    "import numpy as np\n",
    "import plotly.io as plotio\n",
    "import plotly.express as px\n",
    "from plotly.subplots import make_subplots\n",
    "import plotly.graph_objects as go\n",
    "# plotio.write_html(fig, file=’index.html’, auto_open=True)"
   ]
  },
  {
   "cell_type": "code",
   "execution_count": 2,
   "metadata": {},
   "outputs": [],
   "source": [
    "data = pd.read_csv(\"data.csv\")\n",
    "df = pd.DataFrame(data)"
   ]
  },
  {
   "cell_type": "code",
   "execution_count": 3,
   "metadata": {},
   "outputs": [
    {
     "data": {
      "text/html": [
       "<div>\n",
       "<style scoped>\n",
       "    .dataframe tbody tr th:only-of-type {\n",
       "        vertical-align: middle;\n",
       "    }\n",
       "\n",
       "    .dataframe tbody tr th {\n",
       "        vertical-align: top;\n",
       "    }\n",
       "\n",
       "    .dataframe thead th {\n",
       "        text-align: right;\n",
       "    }\n",
       "</style>\n",
       "<table border=\"1\" class=\"dataframe\">\n",
       "  <thead>\n",
       "    <tr style=\"text-align: right;\">\n",
       "      <th></th>\n",
       "      <th>Index</th>\n",
       "      <th>id</th>\n",
       "      <th>name</th>\n",
       "      <th>release_date</th>\n",
       "      <th>english</th>\n",
       "      <th>developer</th>\n",
       "      <th>publisher</th>\n",
       "      <th>platforms</th>\n",
       "      <th>required_age</th>\n",
       "      <th>steamspy_tags</th>\n",
       "      <th>positive_ratings</th>\n",
       "      <th>negative_ratings</th>\n",
       "      <th>average_playtime</th>\n",
       "      <th>median_playtime</th>\n",
       "      <th>price</th>\n",
       "      <th>detailed_description</th>\n",
       "      <th>about_the_game</th>\n",
       "      <th>short_description</th>\n",
       "    </tr>\n",
       "  </thead>\n",
       "  <tbody>\n",
       "    <tr>\n",
       "      <th>0</th>\n",
       "      <td>0</td>\n",
       "      <td>10</td>\n",
       "      <td>Counter-Strike</td>\n",
       "      <td>2000-11-01</td>\n",
       "      <td>1</td>\n",
       "      <td>Valve</td>\n",
       "      <td>Valve</td>\n",
       "      <td>windows;mac;linux</td>\n",
       "      <td>0</td>\n",
       "      <td>Action;FPS;Multiplayer</td>\n",
       "      <td>124534</td>\n",
       "      <td>3339</td>\n",
       "      <td>17612</td>\n",
       "      <td>317</td>\n",
       "      <td>7.19</td>\n",
       "      <td>Play the world's number 1 online action game. ...</td>\n",
       "      <td>Play the world's number 1 online action game. ...</td>\n",
       "      <td>Play the world's number 1 online action game. ...</td>\n",
       "    </tr>\n",
       "    <tr>\n",
       "      <th>1</th>\n",
       "      <td>1</td>\n",
       "      <td>20</td>\n",
       "      <td>Team Fortress Classic</td>\n",
       "      <td>1999-04-01</td>\n",
       "      <td>1</td>\n",
       "      <td>Valve</td>\n",
       "      <td>Valve</td>\n",
       "      <td>windows;mac;linux</td>\n",
       "      <td>0</td>\n",
       "      <td>Action;FPS;Multiplayer</td>\n",
       "      <td>3318</td>\n",
       "      <td>633</td>\n",
       "      <td>277</td>\n",
       "      <td>62</td>\n",
       "      <td>3.99</td>\n",
       "      <td>One of the most popular online action games of...</td>\n",
       "      <td>One of the most popular online action games of...</td>\n",
       "      <td>One of the most popular online action games of...</td>\n",
       "    </tr>\n",
       "    <tr>\n",
       "      <th>2</th>\n",
       "      <td>2</td>\n",
       "      <td>30</td>\n",
       "      <td>Day of Defeat</td>\n",
       "      <td>2003-05-01</td>\n",
       "      <td>1</td>\n",
       "      <td>Valve</td>\n",
       "      <td>Valve</td>\n",
       "      <td>windows;mac;linux</td>\n",
       "      <td>0</td>\n",
       "      <td>FPS;World War II;Multiplayer</td>\n",
       "      <td>3416</td>\n",
       "      <td>398</td>\n",
       "      <td>187</td>\n",
       "      <td>34</td>\n",
       "      <td>3.99</td>\n",
       "      <td>Enlist in an intense brand of Axis vs. Allied ...</td>\n",
       "      <td>Enlist in an intense brand of Axis vs. Allied ...</td>\n",
       "      <td>Enlist in an intense brand of Axis vs. Allied ...</td>\n",
       "    </tr>\n",
       "    <tr>\n",
       "      <th>3</th>\n",
       "      <td>3</td>\n",
       "      <td>40</td>\n",
       "      <td>Deathmatch Classic</td>\n",
       "      <td>2001-06-01</td>\n",
       "      <td>1</td>\n",
       "      <td>Valve</td>\n",
       "      <td>Valve</td>\n",
       "      <td>windows;mac;linux</td>\n",
       "      <td>0</td>\n",
       "      <td>Action;FPS;Multiplayer</td>\n",
       "      <td>1273</td>\n",
       "      <td>267</td>\n",
       "      <td>258</td>\n",
       "      <td>184</td>\n",
       "      <td>3.99</td>\n",
       "      <td>Enjoy fast-paced multiplayer gaming with Death...</td>\n",
       "      <td>Enjoy fast-paced multiplayer gaming with Death...</td>\n",
       "      <td>Enjoy fast-paced multiplayer gaming with Death...</td>\n",
       "    </tr>\n",
       "    <tr>\n",
       "      <th>4</th>\n",
       "      <td>4</td>\n",
       "      <td>50</td>\n",
       "      <td>Half-Life: Opposing Force</td>\n",
       "      <td>1999-11-01</td>\n",
       "      <td>1</td>\n",
       "      <td>Gearbox Software</td>\n",
       "      <td>Valve</td>\n",
       "      <td>windows;mac;linux</td>\n",
       "      <td>0</td>\n",
       "      <td>FPS;Action;Sci-fi</td>\n",
       "      <td>5250</td>\n",
       "      <td>288</td>\n",
       "      <td>624</td>\n",
       "      <td>415</td>\n",
       "      <td>3.99</td>\n",
       "      <td>Return to the Black Mesa Research Facility as ...</td>\n",
       "      <td>Return to the Black Mesa Research Facility as ...</td>\n",
       "      <td>Return to the Black Mesa Research Facility as ...</td>\n",
       "    </tr>\n",
       "  </tbody>\n",
       "</table>\n",
       "</div>"
      ],
      "text/plain": [
       "   Index  id                       name release_date  english  \\\n",
       "0      0  10             Counter-Strike   2000-11-01        1   \n",
       "1      1  20      Team Fortress Classic   1999-04-01        1   \n",
       "2      2  30              Day of Defeat   2003-05-01        1   \n",
       "3      3  40         Deathmatch Classic   2001-06-01        1   \n",
       "4      4  50  Half-Life: Opposing Force   1999-11-01        1   \n",
       "\n",
       "          developer publisher          platforms  required_age  \\\n",
       "0             Valve     Valve  windows;mac;linux             0   \n",
       "1             Valve     Valve  windows;mac;linux             0   \n",
       "2             Valve     Valve  windows;mac;linux             0   \n",
       "3             Valve     Valve  windows;mac;linux             0   \n",
       "4  Gearbox Software     Valve  windows;mac;linux             0   \n",
       "\n",
       "                  steamspy_tags  positive_ratings  negative_ratings  \\\n",
       "0        Action;FPS;Multiplayer            124534              3339   \n",
       "1        Action;FPS;Multiplayer              3318               633   \n",
       "2  FPS;World War II;Multiplayer              3416               398   \n",
       "3        Action;FPS;Multiplayer              1273               267   \n",
       "4             FPS;Action;Sci-fi              5250               288   \n",
       "\n",
       "   average_playtime  median_playtime  price  \\\n",
       "0             17612              317   7.19   \n",
       "1               277               62   3.99   \n",
       "2               187               34   3.99   \n",
       "3               258              184   3.99   \n",
       "4               624              415   3.99   \n",
       "\n",
       "                                detailed_description  \\\n",
       "0  Play the world's number 1 online action game. ...   \n",
       "1  One of the most popular online action games of...   \n",
       "2  Enlist in an intense brand of Axis vs. Allied ...   \n",
       "3  Enjoy fast-paced multiplayer gaming with Death...   \n",
       "4  Return to the Black Mesa Research Facility as ...   \n",
       "\n",
       "                                      about_the_game  \\\n",
       "0  Play the world's number 1 online action game. ...   \n",
       "1  One of the most popular online action games of...   \n",
       "2  Enlist in an intense brand of Axis vs. Allied ...   \n",
       "3  Enjoy fast-paced multiplayer gaming with Death...   \n",
       "4  Return to the Black Mesa Research Facility as ...   \n",
       "\n",
       "                                   short_description  \n",
       "0  Play the world's number 1 online action game. ...  \n",
       "1  One of the most popular online action games of...  \n",
       "2  Enlist in an intense brand of Axis vs. Allied ...  \n",
       "3  Enjoy fast-paced multiplayer gaming with Death...  \n",
       "4  Return to the Black Mesa Research Facility as ...  "
      ]
     },
     "execution_count": 3,
     "metadata": {},
     "output_type": "execute_result"
    }
   ],
   "source": [
    "df.head()"
   ]
  },
  {
   "cell_type": "markdown",
   "metadata": {
    "jupyter": {
     "source_hidden": true
    }
   },
   "source": [
    "# Ratings"
   ]
  },
  {
   "cell_type": "code",
   "execution_count": 172,
   "metadata": {
    "collapsed": true,
    "jupyter": {
     "outputs_hidden": true,
     "source_hidden": true
    }
   },
   "outputs": [
    {
     "data": {
      "text/html": [
       "<div>\n",
       "<style scoped>\n",
       "    .dataframe tbody tr th:only-of-type {\n",
       "        vertical-align: middle;\n",
       "    }\n",
       "\n",
       "    .dataframe tbody tr th {\n",
       "        vertical-align: top;\n",
       "    }\n",
       "\n",
       "    .dataframe thead th {\n",
       "        text-align: right;\n",
       "    }\n",
       "</style>\n",
       "<table border=\"1\" class=\"dataframe\">\n",
       "  <thead>\n",
       "    <tr style=\"text-align: right;\">\n",
       "      <th></th>\n",
       "      <th>name</th>\n",
       "      <th>positive</th>\n",
       "      <th>negative</th>\n",
       "    </tr>\n",
       "  </thead>\n",
       "  <tbody>\n",
       "    <tr>\n",
       "      <th>0</th>\n",
       "      <td>Counter-Strike</td>\n",
       "      <td>97.388815</td>\n",
       "      <td>2.611185</td>\n",
       "    </tr>\n",
       "    <tr>\n",
       "      <th>1</th>\n",
       "      <td>Team Fortress Classic</td>\n",
       "      <td>83.978740</td>\n",
       "      <td>16.021260</td>\n",
       "    </tr>\n",
       "    <tr>\n",
       "      <th>2</th>\n",
       "      <td>Day of Defeat</td>\n",
       "      <td>89.564761</td>\n",
       "      <td>10.435239</td>\n",
       "    </tr>\n",
       "    <tr>\n",
       "      <th>3</th>\n",
       "      <td>Deathmatch Classic</td>\n",
       "      <td>82.662338</td>\n",
       "      <td>17.337662</td>\n",
       "    </tr>\n",
       "    <tr>\n",
       "      <th>4</th>\n",
       "      <td>Half-Life: Opposing Force</td>\n",
       "      <td>94.799567</td>\n",
       "      <td>5.200433</td>\n",
       "    </tr>\n",
       "  </tbody>\n",
       "</table>\n",
       "</div>"
      ],
      "text/plain": [
       "                        name   positive   negative\n",
       "0             Counter-Strike  97.388815   2.611185\n",
       "1      Team Fortress Classic  83.978740  16.021260\n",
       "2              Day of Defeat  89.564761  10.435239\n",
       "3         Deathmatch Classic  82.662338  17.337662\n",
       "4  Half-Life: Opposing Force  94.799567   5.200433"
      ]
     },
     "execution_count": 172,
     "metadata": {},
     "output_type": "execute_result"
    }
   ],
   "source": [
    "dic = {'positive':[], 'negative':[]}\n",
    "df_t = df.query('negative_ratings + positive_ratings > 0' )\n",
    "df_t.reset_index(drop = True, inplace = True)\n",
    "for i in range(df_t.shape[0]):\n",
    "    neg_abs = df_t.negative_ratings[i]\n",
    "    pos_abs = df_t.positive_ratings[i]\n",
    "    t = pos_abs + neg_abs\n",
    "    pos_rel = (pos_abs/t)*100\n",
    "    neg_rel = (neg_abs/t)*100\n",
    "    dic['positive'].append(pos_rel)\n",
    "    dic['negative'].append(neg_rel)\n",
    "    \n",
    "df_ratings = pd.DataFrame(dic)\n",
    "#df_t = pd.merge( df[['name']], df_ratings )\n",
    "df_ratings = df_t[['name']].join(df_ratings)\n",
    "df_ratings.head()"
   ]
  },
  {
   "cell_type": "markdown",
   "metadata": {
    "jupyter": {
     "source_hidden": true
    }
   },
   "source": [
    "# Les jeux les plus aimés"
   ]
  },
  {
   "cell_type": "code",
   "execution_count": 173,
   "metadata": {
    "jupyter": {
     "source_hidden": true
    }
   },
   "outputs": [],
   "source": [
    "n = 1000\n",
    "fig = px.bar(df_ratings.sort_values(by = 'positive', ascending=False), x='name', y='positive')\n",
    "plotio.write_html(fig, file='index.html', auto_open=True)\n",
    "#df_t.sort_values(by = 'positive')[:n]"
   ]
  },
  {
   "cell_type": "markdown",
   "metadata": {},
   "source": [
    "# Type de jeux"
   ]
  },
  {
   "cell_type": "markdown",
   "metadata": {},
   "source": [
    "# Type de jeux en fonction des années"
   ]
  },
  {
   "cell_type": "code",
   "execution_count": 4,
   "metadata": {},
   "outputs": [
    {
     "name": "stdout",
     "output_type": "stream",
     "text": [
      "[('1997', 1), ('1998', 1), ('1999', 2), ('2000', 2), ('2001', 4), ('2002', 1), ('2003', 3), ('2004', 6), ('2005', 6), ('2006', 48), ('2007', 93), ('2008', 145), ('2009', 305), ('2010', 238), ('2011', 239), ('2012', 320), ('2013', 418), ('2014', 1555), ('2015', 2597), ('2016', 4361), ('2017', 6357), ('2018', 8160), ('2019', 2213)]\n",
      "['2004', '2012', '2017', '2006', '1998', '1999', '2015', '2008', '2019', '2016', '2001', '2005', '2014', '2010', '2002', '2003', '2018', '2009', '1997', '2013', '2011', '2007', '2000']\n"
     ]
    }
   ],
   "source": [
    "ser_years = []\n",
    "ser_years_d = {}\n",
    "for date in df.release_date:\n",
    "    ser_years.append(date[:4])\n",
    "    ser_years_d[date[:4]] = ser_years_d.get(date[:4], 0) + 1\n",
    "print(sorted(ser_years_d.items(), key=lambda x: x[0]))\n",
    "\n",
    "\n",
    "years = list(set(ser_years))\n",
    "print(years)\n",
    "dict_years = {k:{} for k in years}\n",
    "ser_tags = df.steamspy_tags.values\n",
    "ser_years_d_2 = {}\n",
    "\n",
    "for i in range(len(ser_tags)):\n",
    "    t = ser_tags[i]\n",
    "    y = ser_years[i]\n",
    "    if ';' in t:\n",
    "        mt = t.split(';')\n",
    "        for e in mt:\n",
    "            dict_years[y][e] = dict_years[y].get(e, 0) + 1\n",
    "            ser_years_d_2[y] = ser_years_d_2.get(y, 0) + 1\n",
    "            \n",
    "    else : \n",
    "        dict_years[y][t] = dict_years[y].get(t, 0) + 1\n",
    "        ser_years_d_2[y] = ser_years_d_2.get(y, 0) + 1\n"
   ]
  },
  {
   "cell_type": "code",
   "execution_count": 266,
   "metadata": {
    "jupyter": {
     "source_hidden": true
    }
   },
   "outputs": [],
   "source": [
    "s = 8\n",
    "e = 12\n",
    "\n",
    "n_col = 2\n",
    "n_row = 2\n",
    "\n",
    "list_type_years = sorted(list(dict_years.items()), key=lambda t: t[0])\n",
    "list_type_years = list_type_years[s:e]\n",
    "titles = [ele[0] for ele in list_type_years]\n",
    "\n",
    "\n",
    "fig = make_subplots(n_row, n_col, specs=[[{'type':'domain'} for i in range(n_col)] for i in range(n_row)],\n",
    "                    subplot_titles=titles)\n",
    "\n",
    "r = 1\n",
    "c = 1\n",
    "i = 0\n",
    "for tupl in list_type_years :\n",
    "    dico = tupl[1]\n",
    "    list_type = sorted(dico.items(), key=lambda t: t[1], reverse=True)[:50]\n",
    "    names = []\n",
    "    values = []\n",
    "    for t in list_type:\n",
    "        names.append(t[0])\n",
    "        values.append(t[1])\n",
    "    \n",
    "    fig.add_trace(go.Pie(labels=names, values=values, name=tupl[0]), r, c)\n",
    "    fig.update_traces(textinfo='value+percent+label', hoverinfo=None)\n",
    "    i += 1\n",
    "    if c < n_col : c += 1\n",
    "    else :\n",
    "        c = 1\n",
    "        r += 1\n",
    "    \n",
    "fig.update_layout(title_text='Tag en fonction des années')\n",
    "plotio.write_html(fig, file='index.html', auto_open=True)"
   ]
  },
  {
   "cell_type": "code",
   "execution_count": 5,
   "metadata": {},
   "outputs": [
    {
     "name": "stdout",
     "output_type": "stream",
     "text": [
      "-------------\n"
     ]
    }
   ],
   "source": [
    "import plotly.graph_objects as go\n",
    "\n",
    "df_dy = pd.DataFrame(dict_years)\n",
    "dict_dy = df_dy.to_dict()\n",
    "#print(dict_dy)\n",
    "\n",
    "for y, d in dict_dy.items():\n",
    "    for k, v in d.items():\n",
    "        if v!=v:\n",
    "            dict_dy[y][k] = 0\n",
    "        else:\n",
    "            dict_dy[y][k] = int(v)\n",
    "            #print(v, int(v))\n",
    "print('-------------')\n",
    "\n",
    "df_dy = sorted(dict_dy.items(), key=lambda t: t[0], reverse=False)\n",
    "\n",
    "\n",
    "list_tag = list(df_dy[0][1].keys())\n",
    "stag = sorted(list_tag, reverse=False)\n",
    "#print(stag)\n",
    "\n",
    "df_dy_list = []\n",
    "for y, d in df_dy:\n",
    "    sd = sorted(d.items(), key=lambda t: t[0], reverse=False)\n",
    "    \n",
    "    temp = []\n",
    "    for ele in sd:\n",
    "        temp.append(ele[1])\n",
    "    df_dy_list.append(temp)\n"
   ]
  },
  {
   "cell_type": "code",
   "execution_count": 6,
   "metadata": {},
   "outputs": [],
   "source": [
    "new_dict = {}\n",
    "for tu in df_dy:\n",
    "    tu_sorted = sorted(list(tu[1].items()), key=lambda x: x[0])\n",
    "    for tag, v in tu_sorted:\n",
    "        new_dict[tag] = new_dict.get(tag, []) + [v]\n",
    "new_list = list(new_dict.items())\n",
    "\n",
    "years_list = []\n",
    "for y in df_dy:\n",
    "    years_list.append(y[0])\n",
    "    \n",
    "tags_list = []\n",
    "values_list = []\n",
    "for ele in new_list:\n",
    "    tags_list.append(ele[0])\n",
    "    values_list.append(ele[1])\n"
   ]
  },
  {
   "cell_type": "code",
   "execution_count": 248,
   "metadata": {},
   "outputs": [
    {
     "name": "stdout",
     "output_type": "stream",
     "text": [
      "['1997', '1998', '1999', '2000', '2001', '2002', '2003', '2004', '2005', '2006', '2007', '2008', '2009', '2010', '2011', '2012', '2013', '2014', '2015', '2016', '2017', '2018', '2019']\n"
     ]
    }
   ],
   "source": [
    "data_l = []\n",
    "print(years_list)\n",
    "i=0\n",
    "for ele in values_list:\n",
    "    gb = go.Bar(name=tags_list[i], x=years_list[8:], y=ele[8:])\n",
    "    data_l.append(gb)\n",
    "    i += 1        \n",
    "fig = go.Figure(data=data_l)\n",
    "# Change the bar mode\n",
    "\n",
    "fig.update_layout(barmode='stack', title='Evolution des tags utilisés en fonction des années', showlegend=False,\n",
    "                  template='seaborn')\n",
    "plotio.write_html(fig, file='../graphes/tags_par_annee.html', auto_open=True)"
   ]
  },
  {
   "cell_type": "markdown",
   "metadata": {},
   "source": [
    "# Platforms"
   ]
  },
  {
   "cell_type": "code",
   "execution_count": 78,
   "metadata": {},
   "outputs": [
    {
     "name": "stdout",
     "output_type": "stream",
     "text": [
      "['windows', 'mac', 'linux']\n",
      "[27070, 8066, 5235]\n"
     ]
    }
   ],
   "source": [
    "dict_plat = {}\n",
    "for t in df.platforms:\n",
    "    if ';' in t:\n",
    "        mt = t.split(';')\n",
    "        for e in mt:\n",
    "            dict_plat[e] = dict_plat.get(e, 0) + 1\n",
    "    else : dict_plat[t] = dict_plat.get(t, 0) + 1\n",
    "            \n",
    "names = list(dict_plat.keys())\n",
    "values = list(dict_plat.values())\n",
    "print(names)\n",
    "print(values)\n",
    "fig = go.Figure(data=[go.Pie(labels=names, values=values)])\n",
    "fig.update_traces(textinfo='value+percent+label', hoverinfo='none')\n",
    "fig.update_layout(title='Proportion des jeux par plateforme', showlegend=False,\n",
    "                  template='plotly')\n",
    "plotio.write_html(fig, file='../graphes/plateformes_s.html', auto_open=True)"
   ]
  },
  {
   "cell_type": "code",
   "execution_count": 79,
   "metadata": {},
   "outputs": [],
   "source": [
    "dict_plat_m = {'w':0, 'm':0, 'l':0, 'wl':0, 'wm':0, 'ml':0, 'wml':0}\n",
    "for t in df.platforms:\n",
    "    if 'windows' in t and 'mac' in t and 'linux' in t:\n",
    "        dict_plat_m['wml'] += 1\n",
    "    elif 'windows' in t and 'mac' in t:\n",
    "        dict_plat_m['wm'] += 1\n",
    "    elif 'windows' in t and 'linux' in t:\n",
    "        dict_plat_m['wl'] += 1\n",
    "    elif 'mac' in t and 'linux' in t:\n",
    "        dict_plat_m['ml'] += 1\n",
    "    elif 'windows' in t:\n",
    "        dict_plat_m['w'] += 1\n",
    "    elif 'mac' in t:\n",
    "        dict_plat_m['m'] += 1\n",
    "    elif 'linux' in t:\n",
    "        dict_plat_m['l'] += 1\n"
   ]
  },
  {
   "cell_type": "code",
   "execution_count": 53,
   "metadata": {},
   "outputs": [
    {
     "data": {
      "text/plain": [
       "{'w': 18398, 'm': 3, 'l': 1, 'wl': 610, 'wm': 3439, 'ml': 1, 'wml': 4623}"
      ]
     },
     "execution_count": 53,
     "metadata": {},
     "output_type": "execute_result"
    }
   ],
   "source": [
    "dict_plat_m"
   ]
  },
  {
   "cell_type": "code",
   "execution_count": 72,
   "metadata": {},
   "outputs": [],
   "source": [
    "import plotly.graph_objects as go\n",
    "\n",
    "fig =go.Figure(go.Sunburst(\n",
    "    labels=[\"Multiplateforme\", \"Linux\", \"Windows\", \"Mac\", \"Multiplateforme\", \"Total Mac\",\"Windows\",\"Mac\",\"Linux\", \"Total Linux\", \"Total Windows\", \"Windows\", \"Multiplateforme\", \"Mac\", \"Linux\"],\n",
    "    parents=[\"Total Linux\", \"Total Linux\", \"Total Linux\", \"Total Linux\", \"Total Mac\", \"\",\"Total Mac\", \"Total Mac\",\"Total Mac\", \"\", \"\", \"Total Windows\", \"Total Windows\", \"Total Windows\", \"Total Windows\"],\n",
    "    values=[4628, 1, 610, 1, 4623, 8066,3439,3,1, 5235, 27070, 18398 , 4628, 3439, 610],\n",
    "    textinfo=\"label+value+percent root\"\n",
    "))\n",
    "fig.update_layout(margin = dict(t=10, l=10, r=10, b=10))\n",
    "plotio.write_html(fig, file='index.html', auto_open=True)"
   ]
  },
  {
   "cell_type": "code",
   "execution_count": 80,
   "metadata": {},
   "outputs": [],
   "source": [
    "import plotly.graph_objects as go\n",
    "\n",
    "fig = go.Figure(go.Sunburst(\n",
    "    labels=[ \"Multiplateforme\", \"Linux\", \"Windows\", \"Mac\", \"Multiplateforme\", \"Total Mac\",\"Windows\",\"Mac\",\"Linux\", \"Total Linux\", \"Total Windows\", \"Windows\", \"Multiplateforme\", \"Mac\", \"Linux\"],\n",
    "    parents=[ \"Total Linux\", \"Total Linux\", \"Total Linux\", \"Total Linux\", \"Total Mac\", \"\",\"Total Mac\", \"Total Mac\",\"Total Mac\", \"\", \"\", \"Total Windows\", \"Total Windows\", \"Total Windows\", \"Total Windows\"],\n",
    "    values=[ 4623, 1, 610, 1, 4623, 8066,3439,3,1, 5235, 27070, 18398 , 4623, 3439, 610],\n",
    "    textinfo=\"label+value+percent parent\",\n",
    "    hoverinfo='none',\n",
    "    branchvalues='total'\n",
    "))\n",
    "\n",
    "fig.update_layout(margin = dict(t=0, l=0, r=0, b=0), template='plotly')\n",
    "\n",
    "plotio.write_html(fig, file='../graphes/plateformes_c.html', auto_open=True)"
   ]
  },
  {
   "cell_type": "markdown",
   "metadata": {},
   "source": [
    "# Nombre de jeux par age requis"
   ]
  },
  {
   "cell_type": "code",
   "execution_count": 75,
   "metadata": {},
   "outputs": [],
   "source": [
    "df_html = df.sample(5)\n",
    "\n",
    "with open('../graphes/dataset_sample.html', 'w', encoding='utf8') as file:\n",
    "    file.write(df_html.to_html())\n",
    "#plotio.write_html(fig, file='../graphes/index.html', auto_open=True)"
   ]
  },
  {
   "cell_type": "code",
   "execution_count": 507,
   "metadata": {},
   "outputs": [
    {
     "data": {
      "text/plain": [
       "0     26479\n",
       "18      308\n",
       "16      192\n",
       "12       73\n",
       "7        12\n",
       "3        11\n",
       "Name: required_age, dtype: int64"
      ]
     },
     "execution_count": 507,
     "metadata": {},
     "output_type": "execute_result"
    }
   ],
   "source": [
    "df[\"required_age\"].value_counts()"
   ]
  },
  {
   "cell_type": "code",
   "execution_count": 91,
   "metadata": {},
   "outputs": [],
   "source": [
    "import plotly.express as px\n",
    "\n",
    "\n",
    "import plotly.express as px\n",
    "fig = px.funnel_area(names=[\"aucun age requis\", \"18 ans\",\"16 ans\", \"12 ans\", \"7 ans\", \"3 ans\"],\n",
    "                    values=[26479, 308, 192, 73, 12, 11])\n",
    "fig.update_layout(margin = dict(t=0, l=0, r=0, b=0), template='plotly')\n",
    "fig.update_layout(plot_bgcolor='white')\n",
    "plotio.write_html(fig, file='../graphes/index.html', auto_open=True)"
   ]
  },
  {
   "cell_type": "code",
   "execution_count": 101,
   "metadata": {},
   "outputs": [],
   "source": [
    "fig = go.Figure(go.Funnel(\n",
    "    y = [\"18 ans\",\"16 ans\", \"12 ans\", \"7 ans\", \"3 ans\"],\n",
    "    x = [308, 192, 73, 12, 11],\n",
    "    textinfo=\"label+value+percent total\",\n",
    "    marker = {\"color\": [\"#ff7d7d\", \"#f3c670\", \"#fafa8c\", \"#b9fa8c\", \"#97fa52\"],\n",
    "    \"line\": {\"width\": [4, 2, 2, 3, 1, 1], \"color\": [\"wheat\", \"wheat\", \"wheat\", \"wheat\", \"wheat\"]}},\n",
    "    connector = {\"line\": {\"color\": \"#cfcecc\", \"dash\": \"dot\", \"width\": 3}}\n",
    "))\n",
    "fig.update_layout(margin = dict(t=0, l=0, r=0, b=0), template='plotly')\n",
    "fig.update_layout(plot_bgcolor='white')\n",
    "plotio.write_html(fig, file='../graphes/ages.html', auto_open=True)"
   ]
  },
  {
   "cell_type": "code",
   "execution_count": 107,
   "metadata": {},
   "outputs": [],
   "source": [
    "import plotly.express as px\n",
    "\n",
    "fig = go.Figure(go.Funnel(\n",
    "    y = [\"aucun age requis\", \"18 ans\",\"16 ans\", \"12 ans\", \"7 ans\", \"3 ans\"],\n",
    "    x = [26479, 192, 73, 12, 11],\n",
    "    textinfo=\"label+value+percent total\"\n",
    "))\n",
    "fig.update_layout(margin = dict(t=0, l=0, r=0, b=0), template='ggplot2')\n",
    "plotio.write_html(fig, file='../graphes/index.html', auto_open=True)"
   ]
  },
  {
   "cell_type": "code",
   "execution_count": 108,
   "metadata": {},
   "outputs": [],
   "source": [
    "from plotly import graph_objects as go\n",
    "\n",
    "fig = make_subplots(rows=1, cols=2, specs=[[{'type':'domain'}, {'type':'domain'}]])\n",
    "\n",
    "fig.add_trace(go.Funnelarea(\n",
    "    scalegroup = \"first\", values = [26479, 308, 192, 73, 12, 11], textinfo = \"value\",\n",
    "    title = {\"position\": \"top center\", \"text\": \"Sales for Sale Person A in U.S.\"}), 1, 1)\n",
    "\n",
    "fig.add_trace(go.Funnelarea(\n",
    "    scalegroup = \"first\", values = [308, 192, 73, 12, 11], textinfo = \"value\",\n",
    "    title = {\"position\": \"top center\", \"text\": \"Sales of Sale Person B in Canada\"}), 1, 2)\n",
    "\n",
    "plotio.write_html(fig, file='../graphes/index.html', auto_open=True)"
   ]
  },
  {
   "cell_type": "markdown",
   "metadata": {},
   "source": [
    "# Nombre de jeux par année"
   ]
  },
  {
   "cell_type": "code",
   "execution_count": 104,
   "metadata": {},
   "outputs": [
    {
     "data": {
      "text/html": [
       "<div>\n",
       "<style scoped>\n",
       "    .dataframe tbody tr th:only-of-type {\n",
       "        vertical-align: middle;\n",
       "    }\n",
       "\n",
       "    .dataframe tbody tr th {\n",
       "        vertical-align: top;\n",
       "    }\n",
       "\n",
       "    .dataframe thead th {\n",
       "        text-align: right;\n",
       "    }\n",
       "</style>\n",
       "<table border=\"1\" class=\"dataframe\">\n",
       "  <thead>\n",
       "    <tr style=\"text-align: right;\">\n",
       "      <th></th>\n",
       "      <th>Index</th>\n",
       "      <th>id</th>\n",
       "      <th>name</th>\n",
       "      <th>release_date</th>\n",
       "      <th>english</th>\n",
       "      <th>developer</th>\n",
       "      <th>publisher</th>\n",
       "      <th>platforms</th>\n",
       "      <th>required_age</th>\n",
       "      <th>steamspy_tags</th>\n",
       "      <th>positive_ratings</th>\n",
       "      <th>negative_ratings</th>\n",
       "      <th>average_playtime</th>\n",
       "      <th>median_playtime</th>\n",
       "      <th>price</th>\n",
       "      <th>detailed_description</th>\n",
       "      <th>about_the_game</th>\n",
       "      <th>short_description</th>\n",
       "    </tr>\n",
       "  </thead>\n",
       "  <tbody>\n",
       "    <tr>\n",
       "      <th>2485</th>\n",
       "      <td>2485</td>\n",
       "      <td>271900</td>\n",
       "      <td>Hexcells Plus</td>\n",
       "      <td>2014-02-19</td>\n",
       "      <td>1</td>\n",
       "      <td>Matthew Brown</td>\n",
       "      <td>Matthew Brown</td>\n",
       "      <td>windows;mac;linux</td>\n",
       "      <td>0</td>\n",
       "      <td>Puzzle;Indie;Casual</td>\n",
       "      <td>1283</td>\n",
       "      <td>89</td>\n",
       "      <td>0</td>\n",
       "      <td>0</td>\n",
       "      <td>1.99</td>\n",
       "      <td>Hexcells Plus is a standalone expansion to Hex...</td>\n",
       "      <td>Hexcells Plus is a standalone expansion to Hex...</td>\n",
       "      <td>Hexcells Plus is a standalone expansion to Hex...</td>\n",
       "    </tr>\n",
       "    <tr>\n",
       "      <th>23605</th>\n",
       "      <td>23605</td>\n",
       "      <td>898380</td>\n",
       "      <td>Color Party</td>\n",
       "      <td>2018-07-25</td>\n",
       "      <td>1</td>\n",
       "      <td>VirtexUniverse</td>\n",
       "      <td>VirtexUniverse</td>\n",
       "      <td>windows</td>\n",
       "      <td>0</td>\n",
       "      <td>Casual;Indie;Puzzle</td>\n",
       "      <td>8</td>\n",
       "      <td>23</td>\n",
       "      <td>0</td>\n",
       "      <td>0</td>\n",
       "      <td>0.79</td>\n",
       "      <td>Arrange the pictures so that together were onl...</td>\n",
       "      <td>Arrange the pictures so that together were onl...</td>\n",
       "      <td>The original puzzle in which you need to arran...</td>\n",
       "    </tr>\n",
       "    <tr>\n",
       "      <th>26176</th>\n",
       "      <td>26176</td>\n",
       "      <td>1006390</td>\n",
       "      <td>プランZ PlanZ</td>\n",
       "      <td>2019-02-04</td>\n",
       "      <td>1</td>\n",
       "      <td>Yomu</td>\n",
       "      <td>Yomu</td>\n",
       "      <td>windows</td>\n",
       "      <td>0</td>\n",
       "      <td>Early Access;Free to Play;Casual</td>\n",
       "      <td>7</td>\n",
       "      <td>2</td>\n",
       "      <td>0</td>\n",
       "      <td>0</td>\n",
       "      <td>0.00</td>\n",
       "      <td>&lt;h1&gt;Reward Time&lt;/h1&gt;&lt;p&gt;If you play in the foll...</td>\n",
       "      <td>This game is a simple fighting game based on t...</td>\n",
       "      <td>This game is a simple fighting game based on t...</td>\n",
       "    </tr>\n",
       "    <tr>\n",
       "      <th>12108</th>\n",
       "      <td>12108</td>\n",
       "      <td>558440</td>\n",
       "      <td>The Night Christmas Ended</td>\n",
       "      <td>2016-12-04</td>\n",
       "      <td>1</td>\n",
       "      <td>Giant Goblin Studio</td>\n",
       "      <td>Giant Goblin Studio</td>\n",
       "      <td>windows</td>\n",
       "      <td>0</td>\n",
       "      <td>Action;Indie;Casual</td>\n",
       "      <td>6</td>\n",
       "      <td>0</td>\n",
       "      <td>0</td>\n",
       "      <td>0</td>\n",
       "      <td>3.99</td>\n",
       "      <td>Get into the Christmas spirit with the world’s...</td>\n",
       "      <td>Get into the Christmas spirit with the world’s...</td>\n",
       "      <td>Team up with the world’s biggest goblin on his...</td>\n",
       "    </tr>\n",
       "    <tr>\n",
       "      <th>16339</th>\n",
       "      <td>16339</td>\n",
       "      <td>685000</td>\n",
       "      <td>BAE</td>\n",
       "      <td>2017-08-07</td>\n",
       "      <td>1</td>\n",
       "      <td>Riviysky</td>\n",
       "      <td>Riviysky</td>\n",
       "      <td>windows</td>\n",
       "      <td>0</td>\n",
       "      <td>Indie;Casual;Puzzle</td>\n",
       "      <td>32</td>\n",
       "      <td>13</td>\n",
       "      <td>0</td>\n",
       "      <td>0</td>\n",
       "      <td>0.79</td>\n",
       "      <td>BAE is a simple puzzle game in which your task...</td>\n",
       "      <td>BAE is a simple puzzle game in which your task...</td>\n",
       "      <td>BAE is a simple puzzle game in which your task...</td>\n",
       "    </tr>\n",
       "  </tbody>\n",
       "</table>\n",
       "</div>"
      ],
      "text/plain": [
       "       Index       id                       name release_date  english  \\\n",
       "2485    2485   271900              Hexcells Plus   2014-02-19        1   \n",
       "23605  23605   898380                Color Party   2018-07-25        1   \n",
       "26176  26176  1006390                 プランZ PlanZ   2019-02-04        1   \n",
       "12108  12108   558440  The Night Christmas Ended   2016-12-04        1   \n",
       "16339  16339   685000                        BAE   2017-08-07        1   \n",
       "\n",
       "                 developer            publisher          platforms  \\\n",
       "2485         Matthew Brown        Matthew Brown  windows;mac;linux   \n",
       "23605       VirtexUniverse       VirtexUniverse            windows   \n",
       "26176                 Yomu                 Yomu            windows   \n",
       "12108  Giant Goblin Studio  Giant Goblin Studio            windows   \n",
       "16339             Riviysky             Riviysky            windows   \n",
       "\n",
       "       required_age                     steamspy_tags  positive_ratings  \\\n",
       "2485              0               Puzzle;Indie;Casual              1283   \n",
       "23605             0               Casual;Indie;Puzzle                 8   \n",
       "26176             0  Early Access;Free to Play;Casual                 7   \n",
       "12108             0               Action;Indie;Casual                 6   \n",
       "16339             0               Indie;Casual;Puzzle                32   \n",
       "\n",
       "       negative_ratings  average_playtime  median_playtime  price  \\\n",
       "2485                 89                 0                0   1.99   \n",
       "23605                23                 0                0   0.79   \n",
       "26176                 2                 0                0   0.00   \n",
       "12108                 0                 0                0   3.99   \n",
       "16339                13                 0                0   0.79   \n",
       "\n",
       "                                    detailed_description  \\\n",
       "2485   Hexcells Plus is a standalone expansion to Hex...   \n",
       "23605  Arrange the pictures so that together were onl...   \n",
       "26176  <h1>Reward Time</h1><p>If you play in the foll...   \n",
       "12108  Get into the Christmas spirit with the world’s...   \n",
       "16339  BAE is a simple puzzle game in which your task...   \n",
       "\n",
       "                                          about_the_game  \\\n",
       "2485   Hexcells Plus is a standalone expansion to Hex...   \n",
       "23605  Arrange the pictures so that together were onl...   \n",
       "26176  This game is a simple fighting game based on t...   \n",
       "12108  Get into the Christmas spirit with the world’s...   \n",
       "16339  BAE is a simple puzzle game in which your task...   \n",
       "\n",
       "                                       short_description  \n",
       "2485   Hexcells Plus is a standalone expansion to Hex...  \n",
       "23605  The original puzzle in which you need to arran...  \n",
       "26176  This game is a simple fighting game based on t...  \n",
       "12108  Team up with the world’s biggest goblin on his...  \n",
       "16339  BAE is a simple puzzle game in which your task...  "
      ]
     },
     "execution_count": 104,
     "metadata": {},
     "output_type": "execute_result"
    }
   ],
   "source": [
    "data = pd.read_csv(\"data.csv\")\n",
    "df = pd.DataFrame(data)\n",
    "df.sample(5)"
   ]
  },
  {
   "cell_type": "code",
   "execution_count": 109,
   "metadata": {},
   "outputs": [
    {
     "name": "stdout",
     "output_type": "stream",
     "text": [
      "[94 72 62 ...  1  1  1]\n",
      "2619\n",
      "79\n"
     ]
    }
   ],
   "source": [
    "print(df.developer.value_counts().values)\n",
    "\n",
    "ja = df[\"release_date\"].value_counts()\n",
    "ja = ja.sort_index(ascending=True)\n",
    "jav = df[df[\"developer\"] == \"Choice of Games\"]\n",
    "jav = jav[\"release_date\"].value_counts()\n",
    "jav = jav.sort_index(ascending=True)\n",
    "print(len(ja))\n",
    "print(len(jav))"
   ]
  },
  {
   "cell_type": "code",
   "execution_count": 418,
   "metadata": {},
   "outputs": [],
   "source": [
    "import plotly.graph_objects as go\n",
    "import numpy as np\n",
    "\n",
    "fig = go.Figure(data=go.Scatter(x=ja.index, y=ja.values, mode='markers'))\n",
    "fig.update_layout(template='plotly',     xaxis_title=\"date\", yaxis_title=\"nombre de jeux\", title='Nombre de jeux par année')\n",
    "plotio.write_html(fig, file='../graphes/jeux_par_date.html', auto_open=True)"
   ]
  },
  {
   "cell_type": "code",
   "execution_count": null,
   "metadata": {},
   "outputs": [],
   "source": [
    "sd = df.release_date.values\n",
    "sd = [d[0:7] for d in sd]\n",
    "\n",
    "dict_d = {str(m):{str(a):0 for a in range(1997, 2019)} for m in range(1, 13)}\n",
    "print(dict_d)\n",
    "for d in sd:\n",
    "    a, m = d.split('-')\n",
    "    m = str(int(m))\n",
    "    dict_d[m][a] = dict_d[m].get(a, 0) + 1\n",
    "dict_d"
   ]
  },
  {
   "cell_type": "code",
   "execution_count": 453,
   "metadata": {},
   "outputs": [],
   "source": [
    "str_m = {1:'janvier',\n",
    "         2:'février',\n",
    "         3:'mars',\n",
    "         4:'avril',\n",
    "         5:'mai',\n",
    "         6:'juin',\n",
    "         7:'juillet',\n",
    "         8:'aout',\n",
    "         9:'septembre',\n",
    "         10:'octobre',\n",
    "         11:'novembre',\n",
    "         12:'décembre'\n",
    "        }\n",
    "\n",
    "new_dict = {}\n",
    "for m in dict_d.items():\n",
    "    new_dict[m[0]] = list(m[1].values())\n",
    "    \n",
    "import plotly.graph_objects as go\n",
    "fig = go.Figure()\n",
    "\n",
    "cs = [\"#ffc46f\", \"#FF4136\", \"#FF851B\", \"#54feb6 \", \" #ff93f7 \", \"#3D9970\", \" #fee254 \", \" #54feb6 \", \" #78ffff\", \" #54feb6 \", \" #78ffff\", \" #54feb6 \"]\n",
    "c = 0\n",
    "for m in new_dict.items():\n",
    "    n = str_m[int(m[0])]\n",
    "    y0 = m[1]\n",
    "\n",
    "    fig.add_trace(go.Box(y=y0, boxmean=True, name=n, marker_color=cs[c]))\n",
    "    c += 1\n",
    "fig.update_layout(xaxis_title=\"type de jeu\", yaxis_title=\"prix\", title='Prix des différents types de jeu')\n",
    "plotio.write_html(fig, file='../graphes/index.html', auto_open=True)"
   ]
  },
  {
   "cell_type": "markdown",
   "metadata": {},
   "source": [
    "# prix par nombre de jeux"
   ]
  },
  {
   "cell_type": "code",
   "execution_count": 306,
   "metadata": {},
   "outputs": [],
   "source": [
    "sp = df.price.value_counts()\n",
    "sp = sp[sp.index < 100]\n",
    "#print(sp)\n",
    "sp = sp.sort_values(ascending=False)\n",
    "fig = go.Figure(data=go.Scatter(x=sp.values, y=sp.index, mode='markers'))\n",
    "#fig.update_layout(plot_bgcolor='white')\n",
    "plotio.write_html(fig, file='../graphes/index.html', auto_open=True)"
   ]
  },
  {
   "cell_type": "code",
   "execution_count": 353,
   "metadata": {},
   "outputs": [
    {
     "data": {
      "text/plain": [
       "[('Anime', 538), ('Horror', 493)]"
      ]
     },
     "execution_count": 353,
     "metadata": {},
     "output_type": "execute_result"
    }
   ],
   "source": [
    "\n",
    "ser_tags = df.steamspy_tags.values\n",
    "dic_t = {}\n",
    "for t in ser_tags:\n",
    "    if ';' in t:\n",
    "        mt = t.split(';')\n",
    "        for e in mt:\n",
    "            dic_t[e] = dic_t.get(e, 0) + 1\n",
    "            \n",
    "    else : \n",
    "        dic_t[t] = dic_t.get(t, 0) + 1\n",
    "sts = sorted(list(dic_t.items()), key=lambda x: x[1], reverse=True)\n",
    "sts[18:20]"
   ]
  },
  {
   "cell_type": "code",
   "execution_count": 364,
   "metadata": {},
   "outputs": [],
   "source": [
    "import plotly.graph_objects as go\n",
    "fig = go.Figure()\n",
    "\n",
    "cs = [\"#ffc46f\", \"#FF4136\", \"#FF851B\", \"#54feb6 \", \" #ff93f7 \", \"#3D9970\", \" #fee254 \", \" #54feb6 \", \" #78ffff\", \" #54feb6 \"]\n",
    "c = 0\n",
    "for tag in sts[15:20]:\n",
    "    tag = tag[0]\n",
    "    dft = df[df.steamspy_tags.str.contains(tag)]\n",
    "    y0 = dft.price.values\n",
    "    y0 = [p for p in y0 if p<80]\n",
    "\n",
    "    fig.add_trace(go.Box(y=y0, boxpoints='all', boxmean=True, name=tag, marker_color=cs[c]))\n",
    "    c += 1\n",
    "fig.update_layout(xaxis_title=\"type de jeu\", yaxis_title=\"prix\", title='Prix des différents types de jeu')\n",
    "plotio.write_html(fig, file='../graphes/index.html', auto_open=True)"
   ]
  },
  {
   "cell_type": "markdown",
   "metadata": {},
   "source": [
    "# developer"
   ]
  },
  {
   "cell_type": "code",
   "execution_count": 128,
   "metadata": {},
   "outputs": [],
   "source": [
    "dev = df.developer.value_counts()\n",
    "#dev = dev[dev.values > 15]\n",
    "dev = dev.sort_values(ascending=False)[:10]\n",
    "dev\n",
    "\n",
    "fig1 = go.Figure(go.Funnelarea(\n",
    "    text = dev.index,\n",
    "    values = dev.values,\n",
    "    textinfo = \"value+text\",\n",
    "    title = {\"position\": \"top center\", \"text\": \"Nombre de jeux sortie par developper\"},\n",
    "    showlegend = False\n",
    "    ))\n",
    "plotio.write_html(fig1, file='../graphes/index.html', auto_open=True)"
   ]
  },
  {
   "cell_type": "markdown",
   "metadata": {},
   "source": [
    "# publisher"
   ]
  },
  {
   "cell_type": "code",
   "execution_count": 129,
   "metadata": {},
   "outputs": [],
   "source": [
    "dev = df.publisher.value_counts()\n",
    "#dev = dev[dev.values > 15]\n",
    "dev = dev.sort_values(ascending=False)[:10]\n",
    "dev \n",
    "\n",
    "fig2 = go.Figure(go.Funnelarea(\n",
    "    text = dev.index,\n",
    "    values = dev.values,\n",
    "    textinfo = \"value+text\",\n",
    "    title = {\"position\": \"top center\", \"text\": \"Nombre de jeux sortie par developper\"},\n",
    "    showlegend = False\n",
    "    ))\n",
    "plotio.write_html(fig2, file='../graphes/index.html', auto_open=True)"
   ]
  },
  {
   "cell_type": "code",
   "execution_count": 158,
   "metadata": {},
   "outputs": [],
   "source": [
    "fig = make_subplots(rows=1, cols=2, specs=[[{'type':'domain'}, {'type':'domain'}]])\n",
    "dev = df.developer.value_counts()\n",
    "#dev = dev[dev.values > 15]\n",
    "dev = dev.sort_values(ascending=False)[:10]\n",
    "fig.add_trace(go.Funnelarea(\n",
    "    text = dev.index,\n",
    "    values = dev.values,\n",
    "    textinfo = \"value+text\",\n",
    "    title = {\"position\": \"top center\", \"text\": \"TOP 10 des plus gros developpeurs\"},\n",
    "    showlegend = False,\n",
    "    marker = {\"colors\": [\"#f7db5e\", \"#dadada \", \"#f7bd5e \",  \" #c2c5ff \" , \" #c5c9ff \",\" #c8cbfe  \",\" #cccfff  \",\" #d2d5ff \",\" #d8dbff \",\" #e1e2ff  \"]}\n",
    "    ),1, 1)\n",
    "dev = df.publisher.value_counts()\n",
    "#dev = dev[dev.values > 15]\n",
    "dev = dev.sort_values(ascending=False)[:10]\n",
    "fig.add_trace(go.Funnelarea(\n",
    "    text = dev.index,\n",
    "    values = dev.values,\n",
    "    textinfo = \"value+text\",\n",
    "    title = {\"position\": \"top center\", \"text\": \"TOP 10 des plus gros éditeurs\"},\n",
    "    showlegend = False,\n",
    "    marker = {\"colors\": [\"#f7db5e\", \"#dadada \", \"#f7bd5e \",  \"#bdbdbd\" , \"#c4c4c4\",\"#c9c9c9 \",\"#cfcfcf \",\"#d3d3d3\",\"#dadada\",\"#e1e1e1 \"]}\n",
    "    ),1, 2)\n",
    "fig.update_layout(plot_bgcolor='white', template='plotly')\n",
    "plotio.write_html(fig, file='../graphes/top10_dev_ed.html', auto_open=True)"
   ]
  },
  {
   "cell_type": "code",
   "execution_count": 259,
   "metadata": {},
   "outputs": [],
   "source": [
    "dev = df.developer.value_counts()\n",
    "#dev = dev[dev.values > 15]\n",
    "dev = dev.sort_values(ascending=False)[:10]\n",
    "fig = go.Figure(go.Funnelarea(\n",
    "    text = dev.index,\n",
    "    values = dev.values,\n",
    "    textinfo = \"value+text\",\n",
    "    hoverinfo = \"value+text\",\n",
    "    title = {\"position\": \"top center\", \"text\": \"TOP 10 des plus gros developpeurs\"},\n",
    "    showlegend = False,\n",
    "    marker = {\"colors\": [\"#f7db5e\", \"#dadada \", \"#f7bd5e \",  \" #c2c5ff \" , \" #c5c9ff \",\" #c8cbfe  \",\" #cccfff  \",\" #d2d5ff \",\" #d8dbff \",\" #e1e2ff  \"]}\n",
    "    ))\n",
    "plotio.write_html(fig, file='../graphes/top10_dev.html', auto_open=True)"
   ]
  },
  {
   "cell_type": "code",
   "execution_count": 260,
   "metadata": {},
   "outputs": [],
   "source": [
    "dev = df.publisher.value_counts()\n",
    "#dev = dev[dev.values > 15]\n",
    "dev = dev.sort_values(ascending=False)[:10]\n",
    "fig = go.Figure(go.Funnelarea(\n",
    "    text = dev.index,\n",
    "    values = dev.values,\n",
    "    textinfo = \"value+text\",\n",
    "    hoverinfo = \"value+text\",\n",
    "    title = {\"position\": \"top center\", \"text\": \"TOP 10 des plus gros éditeurs\"},\n",
    "    showlegend = False,\n",
    "    marker = {\"colors\": [\"#f7db5e\", \"#dadada \", \"#f7bd5e \",  \"#bdbdbd\" , \"#c4c4c4\",\"#c9c9c9 \",\"#cfcfcf \",\"#d3d3d3\",\"#dadada\",\"#e1e1e1 \"]}\n",
    "    ))\n",
    "plotio.write_html(fig, file='../graphes/top10_ed.html', auto_open=True)"
   ]
  },
  {
   "cell_type": "code",
   "execution_count": 261,
   "metadata": {},
   "outputs": [],
   "source": [
    "df_dev_eq_ed = df[df.developer == df.publisher]\n",
    "dev = df_dev_eq_ed.developer.value_counts()\n",
    "dev = dev.sort_values(ascending=False)[:10]\n",
    "fig = go.Figure(go.Funnelarea(\n",
    "    text = dev.index,\n",
    "    values = dev.values,\n",
    "    textinfo = \"value+text\",\n",
    "    hoverinfo = \"value+text\",\n",
    "    title = {\"position\": \"top center\", \"text\": \"TOP 10 des plus gros éditeurs qui sont aussi développeurs\"},\n",
    "    showlegend = False,\n",
    "    marker = {\"colors\": [\"#f7db5e\", \"#dadada \", \"#f7bd5e \",  \" #6fffff \" , \" #7bffff \",\" #93ffff  \",\" #a2ffff  \",\" #b2ffff \",\" #c5ffff \",\" #d4ffff  \"]}\n",
    "    ))\n",
    "plotio.write_html(fig, file='../graphes/top10_ed_dev.html', auto_open=True)"
   ]
  },
  {
   "cell_type": "markdown",
   "metadata": {},
   "source": [
    "# Ratings"
   ]
  },
  {
   "cell_type": "code",
   "execution_count": 402,
   "metadata": {},
   "outputs": [
    {
     "name": "stdout",
     "output_type": "stream",
     "text": [
      "2560\n",
      "27075\n"
     ]
    }
   ],
   "source": [
    "df_r = df[df.price == 0]\n",
    "print(len(df_r))\n",
    "print(len(df))\n",
    "#df_r = df\n",
    "df_r = df_r[['name','negative_ratings','positive_ratings']]\n",
    "nr = df.negative_ratings\n",
    "pr = df.positive_ratings\n",
    "\n",
    "pp_s = []\n",
    "ss = []\n",
    "for ele in zip(nr, pr):\n",
    "    pp = (ele[1]*100)/(ele[0]+ele[1])\n",
    "    ss.append(ele[0] + ele[1])\n",
    "    pp_s.append(pp)"
   ]
  },
  {
   "cell_type": "code",
   "execution_count": 403,
   "metadata": {},
   "outputs": [],
   "source": [
    "pps = pd.Series(pp_s)\n",
    "pss = pd.Series(ss)"
   ]
  },
  {
   "cell_type": "code",
   "execution_count": 404,
   "metadata": {},
   "outputs": [],
   "source": [
    "df_b = df_r.merge(pps.to_frame(), left_index=True, right_index=True)\n",
    "df_b = df_b.merge(pss.to_frame(), left_index=True, right_index=True)\n",
    "df_b.columns = [\"name\",\"nr\",\"pr\",\"prp\", \"sr\"]"
   ]
  },
  {
   "cell_type": "code",
   "execution_count": 413,
   "metadata": {},
   "outputs": [
    {
     "name": "stdout",
     "output_type": "stream",
     "text": [
      "(15, 5)\n",
      "                                   name      nr       pr        prp       sr\n",
      "16808        Doki Doki Literature Club!    3588   108556  96.800542   112144\n",
      "3785        Life is Strange - Episode 1    4496   118634  96.348575   123130\n",
      "4137                 Everlasting Summer    1538    31230  95.306396    32768\n",
      "19                      Team Fortress 2   34036   515879  93.810680   549915\n",
      "1772                      Path of Exile    6117    71593  92.128426    77710\n",
      "1634                           Warframe   20268   226541  91.787982   246809\n",
      "3362                           Unturned   31482   292574  90.285012   324056\n",
      "5390                     Clicker Heroes    4734    42530  89.983920    47264\n",
      "1547               No More Room in Hell    5747    48190  89.344977    53937\n",
      "4749               AdVenture Capitalist    4214    35093  89.279263    39307\n",
      "7324                      Emily is Away    3340    25981  88.608847    29321\n",
      "7975                             VRChat    3323    25818  88.596822    29141\n",
      "25     Counter-Strike: Global Offensive  402313  2644404  86.795196  3046717\n",
      "22                               Dota 2  142079   863507  85.871024  1005586\n",
      "8129                          Paladins®   32407   169580  83.955898   201987\n"
     ]
    }
   ],
   "source": [
    "#df_b = df_b.query('sr > 100000') #A MODIFIER\n",
    "df_b = df_b.sort_values(by='prp', ascending=False)[:15]\n",
    "print(df_b.shape)\n",
    "print(df_b)"
   ]
  },
  {
   "cell_type": "code",
   "execution_count": 416,
   "metadata": {},
   "outputs": [],
   "source": [
    "import plotly.graph_objects as go\n",
    "x = df_b.name\n",
    "fig = go.Figure()\n",
    "nr = [-x for x in df_b.nr]\n",
    "pr = [x for x in df_b.pr]\n",
    "fig.add_trace(go.Bar(name='note positive', x=x, y=pr, marker_color=' #6d81ff ', \n",
    "                    # text=pr, textposition='outside'\n",
    "                    ))\n",
    "\n",
    "fig.add_trace(go.Bar(name='note negative', x=x, y=nr, marker_color=' #ff6d6d  ', \n",
    "                    # text=nr, textposition='outside'\n",
    "                    ))\n",
    "\n",
    "fig.update_layout(barmode='relative', title_text='Comparaison des 40 jeux les plus notés',\n",
    "    legend=go.layout.Legend(\n",
    "        x=0.7,\n",
    "        y=0.9,\n",
    "        borderwidth=2\n",
    "\n",
    "))\n",
    "plotio.write_html(fig, file='../graphes/top40_ratings.html', auto_open=True)"
   ]
  },
  {
   "cell_type": "code",
   "execution_count": 174,
   "metadata": {},
   "outputs": [
    {
     "name": "stdout",
     "output_type": "stream",
     "text": [
      "(41, 5)\n",
      "                                   name      nr       pr        prp       sr\n",
      "0                        Counter-Strike    3339   124534  97.388815   127873\n",
      "19                      Team Fortress 2   34036   515879  93.810680   549915\n",
      "21                        Left 4 Dead 2    8418   251789  96.764883   260207\n",
      "22                               Dota 2  142079   863507  85.871024  1005586\n",
      "23                             Portal 2    1891   138220  98.650356   140111\n",
      "25     Counter-Strike: Global Offensive  402313  2644404  86.795196  3046717\n",
      "121                         Garry's Mod   16433   363721  95.677278   380154\n",
      "222         Sid Meier's Civilization® V    5565   129030  95.865374   134595\n",
      "903                       Borderlands 2   11021   144595  92.917823   155616\n",
      "1025        The Elder Scrolls V: Skyrim   14951   237303  94.073037   252254\n",
      "1120                           Terraria    7797   255600  97.039830   263397\n",
      "1127                             Arma 3   12524   105034  89.346535   117558\n",
      "1467                           PAYDAY 2   56523   308657  84.521880   365180\n",
      "1506                               DayZ   77169   118435  60.548353   195604\n",
      "1526                         Insurgency    9570    92355  90.610743   101925\n",
      "1596             Euro Truck Simulator 2    5825   176769  96.809862   182594\n",
      "1607                  Heroes & Generals   34416    65856  65.677358   100272\n",
      "1634                           Warframe   20268   226541  91.787982   246809\n",
      "1727                        War Thunder   22166    83852  79.092230   106018\n",
      "1817                         The Forest    8881   110460  92.558299   119341\n",
      "2016                               Rust   53709   220370  80.403825   274079\n",
      "2031                     Rocket League®   21816   242561  91.748148   264377\n",
      "2478                 Grand Theft Auto V  139308   329061  70.256785   468369\n",
      "2563                       No Man's Sky   56488    63444  52.899977   119932\n",
      "2964          The Witcher® 3: Wild Hunt    4798   202930  97.690249   207728\n",
      "3251                          Robocraft   30987    80360  72.170781   111347\n",
      "3362                           Unturned   31482   292574  90.285012   324056\n",
      "3785        Life is Strange - Episode 1    4496   118634  96.348575   123130\n",
      "3864              Don't Starve Together    4206   108601  96.271508   112807\n",
      "4712              ARK: Survival Evolved   66603   145035  68.529754   211638\n",
      "5235    Tom Clancy's Rainbow Six® Siege   59620   251178  80.817122   310798\n",
      "5817                    DARK SOULS™ III    9953   100412  90.981742   110365\n",
      "5916                          Fallout 4   45377   110376  70.866051   155753\n",
      "6046                   Dead by Daylight   44985   140721  75.776227   185706\n",
      "6433                          Undertale    4496    97832  95.606286   102328\n",
      "7175                     Stardew Valley    3761   118217  96.916657   121978\n",
      "7809                   Z1 Battle Royale   91664   111434  54.867108   203098\n",
      "8129                          Paladins®   32407   169580  83.955898   201987\n",
      "12836     PLAYERUNKNOWN'S BATTLEGROUNDS  487076   496184  50.463153   983260\n",
      "12965             MONSTER HUNTER: WORLD   35294    72029  67.114225   107323\n",
      "16808        Doki Doki Literature Club!    3588   108556  96.800542   112144\n"
     ]
    }
   ],
   "source": [
    "df_b = df_r.merge(pps.to_frame(), left_index=True, right_index=True)\n",
    "df_b = df_b.merge(pss.to_frame(), left_index=True, right_index=True)\n",
    "df_b.columns = [\"name\",\"nr\",\"pr\",\"prp\", \"sr\"]\n",
    "df_b = df_b.query('sr > 100000')\n",
    "print(df_b.shape)\n",
    "print(df_b)"
   ]
  },
  {
   "cell_type": "code",
   "execution_count": 175,
   "metadata": {},
   "outputs": [],
   "source": [
    "from plotly import graph_objects as go\n",
    "\n",
    "fig = go.Figure()\n",
    "\n",
    "df_b = df_b.sort_values(by='nr', ascending=False)\n",
    "\n",
    "fig.add_trace(go.Funnel(\n",
    "    name = 'positive ratings',\n",
    "    y = df_b.name,\n",
    "    x = df_b.nr[:5],\n",
    "    textinfo = \"value+percent initial\"))\n",
    "\n",
    "plotio.write_html(fig, file='../graphes/index.html', auto_open=True)"
   ]
  },
  {
   "cell_type": "markdown",
   "metadata": {},
   "source": [
    "# playtime / tag / faire par name"
   ]
  },
  {
   "cell_type": "code",
   "execution_count": 369,
   "metadata": {},
   "outputs": [
    {
     "data": {
      "text/html": [
       "<div>\n",
       "<style scoped>\n",
       "    .dataframe tbody tr th:only-of-type {\n",
       "        vertical-align: middle;\n",
       "    }\n",
       "\n",
       "    .dataframe tbody tr th {\n",
       "        vertical-align: top;\n",
       "    }\n",
       "\n",
       "    .dataframe thead th {\n",
       "        text-align: right;\n",
       "    }\n",
       "</style>\n",
       "<table border=\"1\" class=\"dataframe\">\n",
       "  <thead>\n",
       "    <tr style=\"text-align: right;\">\n",
       "      <th></th>\n",
       "      <th>average_playtime</th>\n",
       "      <th>steamspy_tags</th>\n",
       "      <th>median_playtime</th>\n",
       "    </tr>\n",
       "  </thead>\n",
       "  <tbody>\n",
       "    <tr>\n",
       "      <th>0</th>\n",
       "      <td>17612</td>\n",
       "      <td>Action;FPS;Multiplayer</td>\n",
       "      <td>317</td>\n",
       "    </tr>\n",
       "    <tr>\n",
       "      <th>1</th>\n",
       "      <td>277</td>\n",
       "      <td>Action;FPS;Multiplayer</td>\n",
       "      <td>62</td>\n",
       "    </tr>\n",
       "    <tr>\n",
       "      <th>2</th>\n",
       "      <td>187</td>\n",
       "      <td>FPS;World War II;Multiplayer</td>\n",
       "      <td>34</td>\n",
       "    </tr>\n",
       "    <tr>\n",
       "      <th>3</th>\n",
       "      <td>258</td>\n",
       "      <td>Action;FPS;Multiplayer</td>\n",
       "      <td>184</td>\n",
       "    </tr>\n",
       "    <tr>\n",
       "      <th>4</th>\n",
       "      <td>624</td>\n",
       "      <td>FPS;Action;Sci-fi</td>\n",
       "      <td>415</td>\n",
       "    </tr>\n",
       "  </tbody>\n",
       "</table>\n",
       "</div>"
      ],
      "text/plain": [
       "   average_playtime                 steamspy_tags  median_playtime\n",
       "0             17612        Action;FPS;Multiplayer              317\n",
       "1               277        Action;FPS;Multiplayer               62\n",
       "2               187  FPS;World War II;Multiplayer               34\n",
       "3               258        Action;FPS;Multiplayer              184\n",
       "4               624             FPS;Action;Sci-fi              415"
      ]
     },
     "execution_count": 369,
     "metadata": {},
     "output_type": "execute_result"
    }
   ],
   "source": [
    "df_tp = df[['average_playtime','steamspy_tags', 'median_playtime']]\n",
    "df_tp.head()"
   ]
  },
  {
   "cell_type": "code",
   "execution_count": 370,
   "metadata": {},
   "outputs": [],
   "source": [
    "dicto_tp = {'pt':{},'pt_m':{}}\n",
    "tags_v = df_tp.steamspy_tags.values\n",
    "pt_v = df_tp.average_playtime.values\n",
    "pt_m_v = df_tp.median_playtime.values\n",
    "\n",
    "for i in range(len(tags_v)):\n",
    "    tags = tags_v[i]\n",
    "    if ';' in tags:\n",
    "        tags = tags.split(';')\n",
    "        for tag in tags :\n",
    "            dicto_tp['pt'][tag] = dicto_tp['pt'].get(tag, []) + [pt_v[i]]\n",
    "            dicto_tp['pt_m'][tag] = dicto_tp['pt_m'].get(tag, []) + [pt_m_v[i]]\n",
    "    else :\n",
    "        dicto_tp['pt'][tags] = dicto_tp['pt'].get(tags, []) + [pt_v[i]]\n",
    "        dicto_tp['pt_m'][tags] = dicto_tp['pt_m'].get(tags, []) + [pt_m_v[i]]"
   ]
  },
  {
   "cell_type": "code",
   "execution_count": 371,
   "metadata": {},
   "outputs": [
    {
     "name": "stdout",
     "output_type": "stream",
     "text": [
      "[17612, 277, 258, 624, 175, 1300, 427, 361, 691, 6842]\n",
      "['Action', 'FPS', 'Multiplayer', 'World War II', 'Sci-fi', 'Classic', 'Singleplayer', 'Puzzle', 'First-Person', 'Free to Play']\n"
     ]
    }
   ],
   "source": [
    "l_t = []\n",
    "l_p = []\n",
    "l_m_p = []\n",
    "for k, v in dicto_tp['pt'].items():\n",
    "    l_t.append(k)\n",
    "    l_p.append(np.mean(v))\n",
    "print(dicto_tp['pt']['Action'][:10])\n",
    "print(list(dicto_tp['pt'].keys())[:10])\n",
    "\n",
    "\n",
    "for k, v in dicto_tp['pt_m'].items():\n",
    "    l_m_p.append(np.mean(v))"
   ]
  },
  {
   "cell_type": "markdown",
   "metadata": {},
   "source": [
    "# box"
   ]
  },
  {
   "cell_type": "code",
   "execution_count": 373,
   "metadata": {},
   "outputs": [],
   "source": [
    "l_p = pd.Series(l_p)\n",
    "l_t = pd.Series(l_t)\n",
    "l_m_p = pd.Series(l_m_p)\n",
    "df_n = l_t.to_frame()\n",
    "df_n = df_n.merge(l_p.to_frame(), left_index=True, right_index=True)\n",
    "df_n = df_n.merge(l_m_p.to_frame(), left_index=True, right_index=True)\n",
    "df_n.columns = [\"t\",\"pt\", 'm_pt']"
   ]
  },
  {
   "cell_type": "code",
   "execution_count": 374,
   "metadata": {},
   "outputs": [
    {
     "data": {
      "text/html": [
       "<div>\n",
       "<style scoped>\n",
       "    .dataframe tbody tr th:only-of-type {\n",
       "        vertical-align: middle;\n",
       "    }\n",
       "\n",
       "    .dataframe tbody tr th {\n",
       "        vertical-align: top;\n",
       "    }\n",
       "\n",
       "    .dataframe thead th {\n",
       "        text-align: right;\n",
       "    }\n",
       "</style>\n",
       "<table border=\"1\" class=\"dataframe\">\n",
       "  <thead>\n",
       "    <tr style=\"text-align: right;\">\n",
       "      <th></th>\n",
       "      <th>t</th>\n",
       "      <th>pt</th>\n",
       "      <th>m_pt</th>\n",
       "    </tr>\n",
       "  </thead>\n",
       "  <tbody>\n",
       "    <tr>\n",
       "      <th>0</th>\n",
       "      <td>Action</td>\n",
       "      <td>83.284538</td>\n",
       "      <td>77.184848</td>\n",
       "    </tr>\n",
       "    <tr>\n",
       "      <th>1</th>\n",
       "      <td>FPS</td>\n",
       "      <td>470.479012</td>\n",
       "      <td>284.148148</td>\n",
       "    </tr>\n",
       "    <tr>\n",
       "      <th>2</th>\n",
       "      <td>Multiplayer</td>\n",
       "      <td>1031.708642</td>\n",
       "      <td>514.266667</td>\n",
       "    </tr>\n",
       "    <tr>\n",
       "      <th>3</th>\n",
       "      <td>World War II</td>\n",
       "      <td>440.100000</td>\n",
       "      <td>378.076923</td>\n",
       "    </tr>\n",
       "    <tr>\n",
       "      <th>4</th>\n",
       "      <td>Sci-fi</td>\n",
       "      <td>303.363057</td>\n",
       "      <td>281.286624</td>\n",
       "    </tr>\n",
       "  </tbody>\n",
       "</table>\n",
       "</div>"
      ],
      "text/plain": [
       "              t           pt        m_pt\n",
       "0        Action    83.284538   77.184848\n",
       "1           FPS   470.479012  284.148148\n",
       "2   Multiplayer  1031.708642  514.266667\n",
       "3  World War II   440.100000  378.076923\n",
       "4        Sci-fi   303.363057  281.286624"
      ]
     },
     "execution_count": 374,
     "metadata": {},
     "output_type": "execute_result"
    }
   ],
   "source": [
    "df_n.head()"
   ]
  },
  {
   "cell_type": "code",
   "execution_count": 375,
   "metadata": {},
   "outputs": [],
   "source": [
    "df_n = df_n.sort_values(by='pt', ascending=False)\n",
    "list_pt = [int(t) for t in df_n.pt.values]\n",
    "list_m_pt = [int(t) for t in df_n.m_pt.values]\n",
    "list_t = df_n.t.values\n",
    "\n",
    "import plotly.graph_objects as go\n",
    "\n",
    "\n",
    "fig = go.Figure()\n",
    "fig.add_trace(go.Bar(\n",
    "    x=list_t,\n",
    "    y=list_pt,\n",
    "    name='Secondary Product',\n",
    "    marker_color='lightsalmon'\n",
    "))\n",
    "\n",
    "# Here we modify the tickangle of the xaxis, resulting in rotated labels.\n",
    "fig.update_layout(barmode='group', xaxis_tickangle=-45)\n",
    "plotio.write_html(fig, file='../graphes/index.html', auto_open=True)"
   ]
  },
  {
   "cell_type": "code",
   "execution_count": 368,
   "metadata": {},
   "outputs": [],
   "source": [
    "df_n = df_n.sort_values(by='m_pt', ascending=False)\n",
    "list_pt = [int(t) for t in df_n.pt.values]\n",
    "list_m_pt = [int(t) for t in df_n.m_pt.values]\n",
    "list_t = df_n.t.values\n",
    "\n",
    "import plotly.graph_objects as go\n",
    "\n",
    "months = list_t\n",
    "\n",
    "fig = go.Figure()\n",
    "fig.add_trace(go.Bar(\n",
    "    x=list_t,\n",
    "    y=list_m_pt,\n",
    "    name='Secondary Product',\n",
    "    marker_color='lightsalmon'\n",
    "))\n",
    "\n",
    "# Here we modify the tickangle of the xaxis, resulting in rotated labels.\n",
    "fig.update_layout(barmode='group', xaxis_tickangle=-45)\n",
    "plotio.write_html(fig, file='../graphes/index.html', auto_open=True)"
   ]
  },
  {
   "cell_type": "code",
   "execution_count": 366,
   "metadata": {},
   "outputs": [
    {
     "data": {
      "text/html": [
       "<div>\n",
       "<style scoped>\n",
       "    .dataframe tbody tr th:only-of-type {\n",
       "        vertical-align: middle;\n",
       "    }\n",
       "\n",
       "    .dataframe tbody tr th {\n",
       "        vertical-align: top;\n",
       "    }\n",
       "\n",
       "    .dataframe thead th {\n",
       "        text-align: right;\n",
       "    }\n",
       "</style>\n",
       "<table border=\"1\" class=\"dataframe\">\n",
       "  <thead>\n",
       "    <tr style=\"text-align: right;\">\n",
       "      <th></th>\n",
       "      <th>t</th>\n",
       "      <th>pt</th>\n",
       "      <th>m_pt</th>\n",
       "      <th>d</th>\n",
       "    </tr>\n",
       "  </thead>\n",
       "  <tbody>\n",
       "    <tr>\n",
       "      <th>0</th>\n",
       "      <td>Action</td>\n",
       "      <td>83.284538</td>\n",
       "      <td>77.184848</td>\n",
       "      <td>2946</td>\n",
       "    </tr>\n",
       "    <tr>\n",
       "      <th>145</th>\n",
       "      <td>MMORPG</td>\n",
       "      <td>2626.419355</td>\n",
       "      <td>1078.096774</td>\n",
       "      <td>1955</td>\n",
       "    </tr>\n",
       "    <tr>\n",
       "      <th>15</th>\n",
       "      <td>Indie</td>\n",
       "      <td>60.795897</td>\n",
       "      <td>70.159685</td>\n",
       "      <td>1548</td>\n",
       "    </tr>\n",
       "    <tr>\n",
       "      <th>28</th>\n",
       "      <td>Animation &amp; Modeling</td>\n",
       "      <td>17.259259</td>\n",
       "      <td>18.814815</td>\n",
       "      <td>1395</td>\n",
       "    </tr>\n",
       "    <tr>\n",
       "      <th>7</th>\n",
       "      <td>Puzzle</td>\n",
       "      <td>123.375448</td>\n",
       "      <td>129.059140</td>\n",
       "      <td>675</td>\n",
       "    </tr>\n",
       "  </tbody>\n",
       "</table>\n",
       "</div>"
      ],
      "text/plain": [
       "                        t           pt         m_pt     d\n",
       "0                  Action    83.284538    77.184848  2946\n",
       "145                MMORPG  2626.419355  1078.096774  1955\n",
       "15                  Indie    60.795897    70.159685  1548\n",
       "28   Animation & Modeling    17.259259    18.814815  1395\n",
       "7                  Puzzle   123.375448   129.059140   675"
      ]
     },
     "execution_count": 366,
     "metadata": {},
     "output_type": "execute_result"
    }
   ],
   "source": [
    "df_n = df_n.sort_values(by='m_pt', ascending=False)\n",
    "list_pt = [int(t) for t in df_n.pt.values]\n",
    "list_m_pt = [int(t) for t in df_n.m_pt.values]\n",
    "list_t = df_n.t.values\n",
    "\n",
    "list_dif = []\n",
    "for i in range(len(list_t)):\n",
    "    dif = list_pt[i] - list_m_pt[i]\n",
    "    if dif < 0:\n",
    "        dif = -dif\n",
    "    list_dif.append(dif)\n",
    "    \n",
    "l_t = pd.Series(list_t)\n",
    "l_m_p = pd.Series(list_m_pt)\n",
    "l_p = pd.Series(list_pt)\n",
    "l_d = pd.Series(list_dif)\n",
    "df_m = l_t.to_frame()\n",
    "df_m = df_n.merge(l_p.to_frame(), left_index=True, right_index=True)\n",
    "df_m = df_n.merge(l_m_p.to_frame(), left_index=True, right_index=True)\n",
    "df_m = df_n.merge(l_d.to_frame(), left_index=True, right_index=True)\n",
    "df_m.columns = [\"t\",\"pt\", 'm_pt','d']\n",
    "df_m = df_m.sort_values(by='d', ascending=False)\n",
    "df_m.head()"
   ]
  },
  {
   "cell_type": "code",
   "execution_count": 365,
   "metadata": {},
   "outputs": [],
   "source": [
    "months = list_t\n",
    "n=10\n",
    "\n",
    "fig = go.Figure()\n",
    "fig.add_trace(go.Bar(\n",
    "    x=df_m.t.values[:n],\n",
    "    y=df_m.d.values[:n],\n",
    "    name='Secondary Product',\n",
    "    marker_color='lightsalmon'\n",
    "))\n",
    "\n",
    "# Here we modify the tickangle of the xaxis, resulting in rotated labels.\n",
    "fig.update_layout(barmode='group', xaxis_tickangle=-45)\n",
    "plotio.write_html(fig, file='../graphes/index.html', auto_open=True)"
   ]
  },
  {
   "cell_type": "markdown",
   "metadata": {},
   "source": [
    "# jeux gratuits"
   ]
  },
  {
   "cell_type": "code",
   "execution_count": null,
   "metadata": {},
   "outputs": [],
   "source": []
  }
 ],
 "metadata": {
  "kernelspec": {
   "display_name": "Python 3",
   "language": "python",
   "name": "python3"
  },
  "language_info": {
   "codemirror_mode": {
    "name": "ipython",
    "version": 3
   },
   "file_extension": ".py",
   "mimetype": "text/x-python",
   "name": "python",
   "nbconvert_exporter": "python",
   "pygments_lexer": "ipython3",
   "version": "3.7.3"
  }
 },
 "nbformat": 4,
 "nbformat_minor": 4
}
