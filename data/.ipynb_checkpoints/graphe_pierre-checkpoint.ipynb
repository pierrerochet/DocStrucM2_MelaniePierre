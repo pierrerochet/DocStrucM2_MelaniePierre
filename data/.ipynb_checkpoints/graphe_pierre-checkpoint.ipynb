{
 "cells": [
  {
   "cell_type": "code",
   "execution_count": 4,
   "metadata": {},
   "outputs": [],
   "source": [
    "import pandas as pd\n",
    "import matplotlib.pyplot as plt\n",
    "import mpld3\n",
    "import numpy as np\n",
    "import plotly.io as plotio\n",
    "import plotly.express as px\n",
    "from plotly.subplots import make_subplots\n",
    "import plotly.graph_objects as go\n",
    "# plotio.write_html(fig, file=’index.html’, auto_open=True)"
   ]
  },
  {
   "cell_type": "code",
   "execution_count": 199,
   "metadata": {},
   "outputs": [],
   "source": [
    "data = pd.read_csv(\"data.csv\")\n",
    "df = pd.DataFrame(data)"
   ]
  },
  {
   "cell_type": "code",
   "execution_count": 3,
   "metadata": {},
   "outputs": [
    {
     "data": {
      "text/html": [
       "<div>\n",
       "<style scoped>\n",
       "    .dataframe tbody tr th:only-of-type {\n",
       "        vertical-align: middle;\n",
       "    }\n",
       "\n",
       "    .dataframe tbody tr th {\n",
       "        vertical-align: top;\n",
       "    }\n",
       "\n",
       "    .dataframe thead th {\n",
       "        text-align: right;\n",
       "    }\n",
       "</style>\n",
       "<table border=\"1\" class=\"dataframe\">\n",
       "  <thead>\n",
       "    <tr style=\"text-align: right;\">\n",
       "      <th></th>\n",
       "      <th>Index</th>\n",
       "      <th>id</th>\n",
       "      <th>name</th>\n",
       "      <th>release_date</th>\n",
       "      <th>english</th>\n",
       "      <th>developer</th>\n",
       "      <th>publisher</th>\n",
       "      <th>platforms</th>\n",
       "      <th>required_age</th>\n",
       "      <th>steamspy_tags</th>\n",
       "      <th>positive_ratings</th>\n",
       "      <th>negative_ratings</th>\n",
       "      <th>average_playtime</th>\n",
       "      <th>median_playtime</th>\n",
       "      <th>price</th>\n",
       "      <th>detailed_description</th>\n",
       "      <th>about_the_game</th>\n",
       "      <th>short_description</th>\n",
       "    </tr>\n",
       "  </thead>\n",
       "  <tbody>\n",
       "    <tr>\n",
       "      <th>0</th>\n",
       "      <td>0</td>\n",
       "      <td>10</td>\n",
       "      <td>Counter-Strike</td>\n",
       "      <td>2000-11-01</td>\n",
       "      <td>1</td>\n",
       "      <td>Valve</td>\n",
       "      <td>Valve</td>\n",
       "      <td>windows;mac;linux</td>\n",
       "      <td>0</td>\n",
       "      <td>Action;FPS;Multiplayer</td>\n",
       "      <td>124534</td>\n",
       "      <td>3339</td>\n",
       "      <td>17612</td>\n",
       "      <td>317</td>\n",
       "      <td>7.19</td>\n",
       "      <td>Play the world's number 1 online action game. ...</td>\n",
       "      <td>Play the world's number 1 online action game. ...</td>\n",
       "      <td>Play the world's number 1 online action game. ...</td>\n",
       "    </tr>\n",
       "    <tr>\n",
       "      <th>1</th>\n",
       "      <td>1</td>\n",
       "      <td>20</td>\n",
       "      <td>Team Fortress Classic</td>\n",
       "      <td>1999-04-01</td>\n",
       "      <td>1</td>\n",
       "      <td>Valve</td>\n",
       "      <td>Valve</td>\n",
       "      <td>windows;mac;linux</td>\n",
       "      <td>0</td>\n",
       "      <td>Action;FPS;Multiplayer</td>\n",
       "      <td>3318</td>\n",
       "      <td>633</td>\n",
       "      <td>277</td>\n",
       "      <td>62</td>\n",
       "      <td>3.99</td>\n",
       "      <td>One of the most popular online action games of...</td>\n",
       "      <td>One of the most popular online action games of...</td>\n",
       "      <td>One of the most popular online action games of...</td>\n",
       "    </tr>\n",
       "    <tr>\n",
       "      <th>2</th>\n",
       "      <td>2</td>\n",
       "      <td>30</td>\n",
       "      <td>Day of Defeat</td>\n",
       "      <td>2003-05-01</td>\n",
       "      <td>1</td>\n",
       "      <td>Valve</td>\n",
       "      <td>Valve</td>\n",
       "      <td>windows;mac;linux</td>\n",
       "      <td>0</td>\n",
       "      <td>FPS;World War II;Multiplayer</td>\n",
       "      <td>3416</td>\n",
       "      <td>398</td>\n",
       "      <td>187</td>\n",
       "      <td>34</td>\n",
       "      <td>3.99</td>\n",
       "      <td>Enlist in an intense brand of Axis vs. Allied ...</td>\n",
       "      <td>Enlist in an intense brand of Axis vs. Allied ...</td>\n",
       "      <td>Enlist in an intense brand of Axis vs. Allied ...</td>\n",
       "    </tr>\n",
       "    <tr>\n",
       "      <th>3</th>\n",
       "      <td>3</td>\n",
       "      <td>40</td>\n",
       "      <td>Deathmatch Classic</td>\n",
       "      <td>2001-06-01</td>\n",
       "      <td>1</td>\n",
       "      <td>Valve</td>\n",
       "      <td>Valve</td>\n",
       "      <td>windows;mac;linux</td>\n",
       "      <td>0</td>\n",
       "      <td>Action;FPS;Multiplayer</td>\n",
       "      <td>1273</td>\n",
       "      <td>267</td>\n",
       "      <td>258</td>\n",
       "      <td>184</td>\n",
       "      <td>3.99</td>\n",
       "      <td>Enjoy fast-paced multiplayer gaming with Death...</td>\n",
       "      <td>Enjoy fast-paced multiplayer gaming with Death...</td>\n",
       "      <td>Enjoy fast-paced multiplayer gaming with Death...</td>\n",
       "    </tr>\n",
       "    <tr>\n",
       "      <th>4</th>\n",
       "      <td>4</td>\n",
       "      <td>50</td>\n",
       "      <td>Half-Life: Opposing Force</td>\n",
       "      <td>1999-11-01</td>\n",
       "      <td>1</td>\n",
       "      <td>Gearbox Software</td>\n",
       "      <td>Valve</td>\n",
       "      <td>windows;mac;linux</td>\n",
       "      <td>0</td>\n",
       "      <td>FPS;Action;Sci-fi</td>\n",
       "      <td>5250</td>\n",
       "      <td>288</td>\n",
       "      <td>624</td>\n",
       "      <td>415</td>\n",
       "      <td>3.99</td>\n",
       "      <td>Return to the Black Mesa Research Facility as ...</td>\n",
       "      <td>Return to the Black Mesa Research Facility as ...</td>\n",
       "      <td>Return to the Black Mesa Research Facility as ...</td>\n",
       "    </tr>\n",
       "  </tbody>\n",
       "</table>\n",
       "</div>"
      ],
      "text/plain": [
       "   Index  id                       name release_date  english  \\\n",
       "0      0  10             Counter-Strike   2000-11-01        1   \n",
       "1      1  20      Team Fortress Classic   1999-04-01        1   \n",
       "2      2  30              Day of Defeat   2003-05-01        1   \n",
       "3      3  40         Deathmatch Classic   2001-06-01        1   \n",
       "4      4  50  Half-Life: Opposing Force   1999-11-01        1   \n",
       "\n",
       "          developer publisher          platforms  required_age  \\\n",
       "0             Valve     Valve  windows;mac;linux             0   \n",
       "1             Valve     Valve  windows;mac;linux             0   \n",
       "2             Valve     Valve  windows;mac;linux             0   \n",
       "3             Valve     Valve  windows;mac;linux             0   \n",
       "4  Gearbox Software     Valve  windows;mac;linux             0   \n",
       "\n",
       "                  steamspy_tags  positive_ratings  negative_ratings  \\\n",
       "0        Action;FPS;Multiplayer            124534              3339   \n",
       "1        Action;FPS;Multiplayer              3318               633   \n",
       "2  FPS;World War II;Multiplayer              3416               398   \n",
       "3        Action;FPS;Multiplayer              1273               267   \n",
       "4             FPS;Action;Sci-fi              5250               288   \n",
       "\n",
       "   average_playtime  median_playtime  price  \\\n",
       "0             17612              317   7.19   \n",
       "1               277               62   3.99   \n",
       "2               187               34   3.99   \n",
       "3               258              184   3.99   \n",
       "4               624              415   3.99   \n",
       "\n",
       "                                detailed_description  \\\n",
       "0  Play the world's number 1 online action game. ...   \n",
       "1  One of the most popular online action games of...   \n",
       "2  Enlist in an intense brand of Axis vs. Allied ...   \n",
       "3  Enjoy fast-paced multiplayer gaming with Death...   \n",
       "4  Return to the Black Mesa Research Facility as ...   \n",
       "\n",
       "                                      about_the_game  \\\n",
       "0  Play the world's number 1 online action game. ...   \n",
       "1  One of the most popular online action games of...   \n",
       "2  Enlist in an intense brand of Axis vs. Allied ...   \n",
       "3  Enjoy fast-paced multiplayer gaming with Death...   \n",
       "4  Return to the Black Mesa Research Facility as ...   \n",
       "\n",
       "                                   short_description  \n",
       "0  Play the world's number 1 online action game. ...  \n",
       "1  One of the most popular online action games of...  \n",
       "2  Enlist in an intense brand of Axis vs. Allied ...  \n",
       "3  Enjoy fast-paced multiplayer gaming with Death...  \n",
       "4  Return to the Black Mesa Research Facility as ...  "
      ]
     },
     "execution_count": 3,
     "metadata": {},
     "output_type": "execute_result"
    }
   ],
   "source": [
    "df.head()"
   ]
  },
  {
   "cell_type": "markdown",
   "metadata": {
    "jupyter": {
     "source_hidden": true
    }
   },
   "source": [
    "# Ratings"
   ]
  },
  {
   "cell_type": "code",
   "execution_count": 172,
   "metadata": {
    "collapsed": true,
    "jupyter": {
     "outputs_hidden": true,
     "source_hidden": true
    }
   },
   "outputs": [
    {
     "data": {
      "text/html": [
       "<div>\n",
       "<style scoped>\n",
       "    .dataframe tbody tr th:only-of-type {\n",
       "        vertical-align: middle;\n",
       "    }\n",
       "\n",
       "    .dataframe tbody tr th {\n",
       "        vertical-align: top;\n",
       "    }\n",
       "\n",
       "    .dataframe thead th {\n",
       "        text-align: right;\n",
       "    }\n",
       "</style>\n",
       "<table border=\"1\" class=\"dataframe\">\n",
       "  <thead>\n",
       "    <tr style=\"text-align: right;\">\n",
       "      <th></th>\n",
       "      <th>name</th>\n",
       "      <th>positive</th>\n",
       "      <th>negative</th>\n",
       "    </tr>\n",
       "  </thead>\n",
       "  <tbody>\n",
       "    <tr>\n",
       "      <th>0</th>\n",
       "      <td>Counter-Strike</td>\n",
       "      <td>97.388815</td>\n",
       "      <td>2.611185</td>\n",
       "    </tr>\n",
       "    <tr>\n",
       "      <th>1</th>\n",
       "      <td>Team Fortress Classic</td>\n",
       "      <td>83.978740</td>\n",
       "      <td>16.021260</td>\n",
       "    </tr>\n",
       "    <tr>\n",
       "      <th>2</th>\n",
       "      <td>Day of Defeat</td>\n",
       "      <td>89.564761</td>\n",
       "      <td>10.435239</td>\n",
       "    </tr>\n",
       "    <tr>\n",
       "      <th>3</th>\n",
       "      <td>Deathmatch Classic</td>\n",
       "      <td>82.662338</td>\n",
       "      <td>17.337662</td>\n",
       "    </tr>\n",
       "    <tr>\n",
       "      <th>4</th>\n",
       "      <td>Half-Life: Opposing Force</td>\n",
       "      <td>94.799567</td>\n",
       "      <td>5.200433</td>\n",
       "    </tr>\n",
       "  </tbody>\n",
       "</table>\n",
       "</div>"
      ],
      "text/plain": [
       "                        name   positive   negative\n",
       "0             Counter-Strike  97.388815   2.611185\n",
       "1      Team Fortress Classic  83.978740  16.021260\n",
       "2              Day of Defeat  89.564761  10.435239\n",
       "3         Deathmatch Classic  82.662338  17.337662\n",
       "4  Half-Life: Opposing Force  94.799567   5.200433"
      ]
     },
     "execution_count": 172,
     "metadata": {},
     "output_type": "execute_result"
    }
   ],
   "source": [
    "dic = {'positive':[], 'negative':[]}\n",
    "df_t = df.query('negative_ratings + positive_ratings > 0' )\n",
    "df_t.reset_index(drop = True, inplace = True)\n",
    "for i in range(df_t.shape[0]):\n",
    "    neg_abs = df_t.negative_ratings[i]\n",
    "    pos_abs = df_t.positive_ratings[i]\n",
    "    t = pos_abs + neg_abs\n",
    "    pos_rel = (pos_abs/t)*100\n",
    "    neg_rel = (neg_abs/t)*100\n",
    "    dic['positive'].append(pos_rel)\n",
    "    dic['negative'].append(neg_rel)\n",
    "    \n",
    "df_ratings = pd.DataFrame(dic)\n",
    "#df_t = pd.merge( df[['name']], df_ratings )\n",
    "df_ratings = df_t[['name']].join(df_ratings)\n",
    "df_ratings.head()"
   ]
  },
  {
   "cell_type": "markdown",
   "metadata": {
    "jupyter": {
     "source_hidden": true
    }
   },
   "source": [
    "# Les jeux les plus aimés"
   ]
  },
  {
   "cell_type": "code",
   "execution_count": 173,
   "metadata": {
    "jupyter": {
     "source_hidden": true
    }
   },
   "outputs": [],
   "source": [
    "n = 1000\n",
    "fig = px.bar(df_ratings.sort_values(by = 'positive', ascending=False), x='name', y='positive')\n",
    "plotio.write_html(fig, file='index.html', auto_open=True)\n",
    "#df_t.sort_values(by = 'positive')[:n]"
   ]
  },
  {
   "cell_type": "markdown",
   "metadata": {},
   "source": [
    "# Type de jeux"
   ]
  },
  {
   "cell_type": "markdown",
   "metadata": {},
   "source": [
    "# Type de jeux en fonction des années"
   ]
  },
  {
   "cell_type": "code",
   "execution_count": 514,
   "metadata": {},
   "outputs": [
    {
     "name": "stdout",
     "output_type": "stream",
     "text": [
      "[('1997', 1), ('1998', 1), ('1999', 2), ('2000', 2), ('2001', 4), ('2002', 1), ('2003', 3), ('2004', 6), ('2005', 6), ('2006', 48), ('2007', 93), ('2008', 145), ('2009', 305), ('2010', 238), ('2011', 239), ('2012', 320), ('2013', 418), ('2014', 1555), ('2015', 2597), ('2016', 4361), ('2017', 6357), ('2018', 8160), ('2019', 2213)]\n",
      "['2005', '2001', '2017', '2007', '1997', '2012', '2002', '2015', '2016', '2011', '2008', '2004', '2000', '1998', '2018', '2003', '2013', '2019', '2009', '2010', '1999', '2006', '2014']\n"
     ]
    }
   ],
   "source": [
    "ser_years = []\n",
    "ser_years_d = {}\n",
    "for date in df.release_date:\n",
    "    ser_years.append(date[:4])\n",
    "    ser_years_d[date[:4]] = ser_years_d.get(date[:4], 0) + 1\n",
    "print(sorted(ser_years_d.items(), key=lambda x: x[0]))\n",
    "\n",
    "\n",
    "years = list(set(ser_years))\n",
    "print(years)\n",
    "dict_years = {k:{} for k in years}\n",
    "ser_tags = df.steamspy_tags.values\n",
    "ser_years_d_2 = {}\n",
    "\n",
    "for i in range(len(ser_tags)):\n",
    "    t = ser_tags[i]\n",
    "    y = ser_years[i]\n",
    "    if ';' in t:\n",
    "        mt = t.split(';')\n",
    "        for e in mt:\n",
    "            dict_years[y][e] = dict_years[y].get(e, 0) + 1\n",
    "            ser_years_d_2[y] = ser_years_d_2.get(y, 0) + 1\n",
    "            \n",
    "    else : \n",
    "        dict_years[y][t] = dict_years[y].get(t, 0) + 1\n",
    "        ser_years_d_2[y] = ser_years_d_2.get(y, 0) + 1\n"
   ]
  },
  {
   "cell_type": "code",
   "execution_count": 266,
   "metadata": {
    "jupyter": {
     "source_hidden": true
    }
   },
   "outputs": [],
   "source": [
    "s = 8\n",
    "e = 12\n",
    "\n",
    "n_col = 2\n",
    "n_row = 2\n",
    "\n",
    "list_type_years = sorted(list(dict_years.items()), key=lambda t: t[0])\n",
    "list_type_years = list_type_years[s:e]\n",
    "titles = [ele[0] for ele in list_type_years]\n",
    "\n",
    "\n",
    "fig = make_subplots(n_row, n_col, specs=[[{'type':'domain'} for i in range(n_col)] for i in range(n_row)],\n",
    "                    subplot_titles=titles)\n",
    "\n",
    "r = 1\n",
    "c = 1\n",
    "i = 0\n",
    "for tupl in list_type_years :\n",
    "    dico = tupl[1]\n",
    "    list_type = sorted(dico.items(), key=lambda t: t[1], reverse=True)[:50]\n",
    "    names = []\n",
    "    values = []\n",
    "    for t in list_type:\n",
    "        names.append(t[0])\n",
    "        values.append(t[1])\n",
    "    \n",
    "    fig.add_trace(go.Pie(labels=names, values=values, name=tupl[0]), r, c)\n",
    "    fig.update_traces(textinfo='value+percent+label', hoverinfo=None)\n",
    "    i += 1\n",
    "    if c < n_col : c += 1\n",
    "    else :\n",
    "        c = 1\n",
    "        r += 1\n",
    "    \n",
    "fig.update_layout(title_text='Tag en fonction des années')\n",
    "plotio.write_html(fig, file='index.html', auto_open=True)"
   ]
  },
  {
   "cell_type": "code",
   "execution_count": 513,
   "metadata": {},
   "outputs": [
    {
     "name": "stdout",
     "output_type": "stream",
     "text": [
      "-------------\n"
     ]
    }
   ],
   "source": [
    "import plotly.graph_objects as go\n",
    "\n",
    "df_dy = pd.DataFrame(dict_years)\n",
    "dict_dy = df_dy.to_dict()\n",
    "#print(dict_dy)\n",
    "\n",
    "for y, d in dict_dy.items():\n",
    "    for k, v in d.items():\n",
    "        if v!=v:\n",
    "            dict_dy[y][k] = 0\n",
    "        else:\n",
    "            dict_dy[y][k] = int(v)\n",
    "            #print(v, int(v))\n",
    "print('-------------')\n",
    "\n",
    "df_dy = sorted(dict_dy.items(), key=lambda t: t[0], reverse=False)\n",
    "\n",
    "\n",
    "list_tag = list(df_dy[0][1].keys())\n",
    "stag = sorted(list_tag, reverse=False)\n",
    "#print(stag)\n",
    "\n",
    "df_dy_list = []\n",
    "for y, d in df_dy:\n",
    "    sd = sorted(d.items(), key=lambda t: t[0], reverse=False)\n",
    "    \n",
    "    temp = []\n",
    "    for ele in sd:\n",
    "        temp.append(ele[1])\n",
    "    df_dy_list.append(temp)\n"
   ]
  },
  {
   "cell_type": "code",
   "execution_count": 512,
   "metadata": {},
   "outputs": [],
   "source": [
    "new_dict = {}\n",
    "for tu in df_dy:\n",
    "    tu_sorted = sorted(list(tu[1].items()), key=lambda x: x[0])\n",
    "    for tag, v in tu_sorted:\n",
    "        new_dict[tag] = new_dict.get(tag, []) + [v]\n",
    "new_list = list(new_dict.items())\n",
    "\n",
    "years_list = []\n",
    "for y in df_dy:\n",
    "    years_list.append(y[0])\n",
    "    \n",
    "tags_list = []\n",
    "values_list = []\n",
    "for ele in new_list:\n",
    "    tags_list.append(ele[0])\n",
    "    values_list.append(ele[1])\n"
   ]
  },
  {
   "cell_type": "code",
   "execution_count": 511,
   "metadata": {},
   "outputs": [
    {
     "name": "stdout",
     "output_type": "stream",
     "text": [
      "['1997', '1998', '1999', '2000', '2001', '2002', '2003', '2004', '2005', '2006', '2007', '2008', '2009', '2010', '2011', '2012', '2013', '2014', '2015', '2016', '2017', '2018', '2019']\n"
     ]
    }
   ],
   "source": [
    "data_l = []\n",
    "print(years_list)\n",
    "i=0\n",
    "for ele in values_list:\n",
    "    gb = go.Bar(name=tags_list[i], x=years_list[8:], y=ele[8:])\n",
    "    data_l.append(gb)\n",
    "    i += 1        \n",
    "fig = go.Figure(data=data_l)\n",
    "# Change the bar mode\n",
    "fig.update_layout(barmode='stack')\n",
    "plotio.write_html(fig, file='../graphes/index.html', auto_open=True)"
   ]
  },
  {
   "cell_type": "markdown",
   "metadata": {},
   "source": [
    "# Platforms"
   ]
  },
  {
   "cell_type": "code",
   "execution_count": 86,
   "metadata": {},
   "outputs": [
    {
     "name": "stdout",
     "output_type": "stream",
     "text": [
      "['windows', 'mac', 'linux']\n",
      "[27070, 8066, 5235]\n"
     ]
    }
   ],
   "source": [
    "dict_plat = {}\n",
    "for t in df.platforms:\n",
    "    if ';' in t:\n",
    "        mt = t.split(';')\n",
    "        for e in mt:\n",
    "            dict_plat[e] = dict_plat.get(e, 0) + 1\n",
    "    else : dict_plat[t] = dict_plat.get(t, 0) + 1\n",
    "            \n",
    "names = list(dict_plat.keys())\n",
    "values = list(dict_plat.values())\n",
    "print(names)\n",
    "print(values)\n",
    "fig = go.Figure(data=[go.Pie(labels=names, values=values)])\n",
    "fig.update_traces(textinfo='value+percent+label', hoverinfo=None)\n",
    "plotio.write_html(fig, file='index.html', auto_open=True)"
   ]
  },
  {
   "cell_type": "code",
   "execution_count": 6,
   "metadata": {},
   "outputs": [],
   "source": [
    "dict_plat_m = {'w':0, 'm':0, 'l':0, 'wl':0, 'wm':0, 'ml':0, 'wml':0}\n",
    "for t in df.platforms:\n",
    "    if 'windows' in t and 'mac' in t and 'linux' in t:\n",
    "        dict_plat_m['wml'] += 1\n",
    "    elif 'windows' in t and 'mac' in t:\n",
    "        dict_plat_m['wm'] += 1\n",
    "    elif 'windows' in t and 'linux' in t:\n",
    "        dict_plat_m['wl'] += 1\n",
    "    elif 'mac' in t and 'linux' in t:\n",
    "        dict_plat_m['ml'] += 1\n",
    "    elif 'windows' in t:\n",
    "        dict_plat_m['w'] += 1\n",
    "    elif 'mac' in t:\n",
    "        dict_plat_m['m'] += 1\n",
    "    elif 'linux' in t:\n",
    "        dict_plat_m['l'] += 1\n"
   ]
  },
  {
   "cell_type": "code",
   "execution_count": 7,
   "metadata": {},
   "outputs": [
    {
     "data": {
      "text/plain": [
       "{'w': 18398, 'm': 3, 'l': 1, 'wl': 610, 'wm': 3439, 'ml': 1, 'wml': 4623}"
      ]
     },
     "execution_count": 7,
     "metadata": {},
     "output_type": "execute_result"
    }
   ],
   "source": [
    "dict_plat_m"
   ]
  },
  {
   "cell_type": "code",
   "execution_count": 510,
   "metadata": {},
   "outputs": [],
   "source": [
    "import plotly.graph_objects as go\n",
    "\n",
    "fig =go.Figure(go.Sunburst(\n",
    "    labels=[\"Multiplateforme\", \"Linux\", \"Windows\", \"Mac\", \"Multiplateforme\", \"Total Mac\",\"Windows\",\"Mac\",\"Linux\", \"Total Linux\", \"Total Windows\", \"Windows\", \"Multiplateforme\", \"Mac\", \"Linux\"],\n",
    "    parents=[\"Total Linux\", \"Total Linux\", \"Total Linux\", \"Total Linux\", \"Total Mac\", \"\",\"Total Mac\", \"Total Mac\",\"Total Mac\", \"\", \"\", \"Total Windows\", \"Total Windows\", \"Total Windows\", \"Total Windows\"],\n",
    "    values=[4628, 1, 610, 1, 4623, 8066,3439,3,1, 5235, 27070, 18398 , 4628, 3439, 610],\n",
    "    textinfo=\"label+value+percent root\"\n",
    "))\n",
    "fig.update_layout(margin = dict(t=10, l=10, r=10, b=10))\n",
    "plotio.write_html(fig, file='index.html', auto_open=True)"
   ]
  },
  {
   "cell_type": "code",
   "execution_count": 509,
   "metadata": {},
   "outputs": [],
   "source": [
    "import plotly.graph_objects as go\n",
    "\n",
    "trace = go.Sunburst(\n",
    "    labels=[ \"Multiplateforme\", \"Linux\", \"Windows\", \"Mac\", \"Multiplateforme\", \"Total Mac\",\"Windows\",\"Mac\",\"Linux\", \"Total Linux\", \"Total Windows\", \"Windows\", \"Multiplateforme\", \"Mac\", \"Linux\"],\n",
    "    parents=[ \"Total Linux\", \"Total Linux\", \"Total Linux\", \"Total Linux\", \"Total Mac\", \"\",\"Total Mac\", \"Total Mac\",\"Total Mac\", \"\", \"\", \"Total Windows\", \"Total Windows\", \"Total Windows\", \"Total Windows\"],\n",
    "    values=[ 4623, 1, 610, 1, 4623, 8066,3439,3,1, 5235, 27070, 18398 , 4623, 3439, 610],\n",
    "    textinfo=\"label+value+percent parent\",\n",
    "    branchvalues='total'\n",
    ")\n",
    "layout = go.Layout(\n",
    "    margin = go.layout.Margin(t=0, l=0, r=0, b=0)\n",
    ")\n",
    "\n",
    "fig = {\n",
    "    'data': [trace],\n",
    "    'layout': layout\n",
    "}\n",
    "\n",
    "plotio.write_html(fig, file='../graphes/index.html', auto_open=True)"
   ]
  },
  {
   "cell_type": "markdown",
   "metadata": {},
   "source": [
    "# Nombre de jeux par age requis"
   ]
  },
  {
   "cell_type": "code",
   "execution_count": 506,
   "metadata": {},
   "outputs": [],
   "source": [
    "df_html = df.sample(5)\n",
    "\n",
    "with open('../graphes/index.html', 'w', encoding='utf8') as file:\n",
    "    file.write(df_html.to_html())\n",
    "#plotio.write_html(fig, file='../graphes/index.html', auto_open=True)"
   ]
  },
  {
   "cell_type": "code",
   "execution_count": 507,
   "metadata": {},
   "outputs": [
    {
     "data": {
      "text/plain": [
       "0     26479\n",
       "18      308\n",
       "16      192\n",
       "12       73\n",
       "7        12\n",
       "3        11\n",
       "Name: required_age, dtype: int64"
      ]
     },
     "execution_count": 507,
     "metadata": {},
     "output_type": "execute_result"
    }
   ],
   "source": [
    "df[\"required_age\"].value_counts()"
   ]
  },
  {
   "cell_type": "code",
   "execution_count": 508,
   "metadata": {},
   "outputs": [],
   "source": [
    "import plotly.express as px\n",
    "\n",
    "\n",
    "\n",
    "import plotly.express as px\n",
    "fig = px.funnel_area(names=[\"aucun age requis\", \"18 ans\",\"16 ans\", \"12 ans\", \"7 ans\", \"3 ans\"],\n",
    "                    values=[26479, 308, 192, 73, 12, 11])\n",
    "plotio.write_html(fig, file='../graphes/index.html', auto_open=True)"
   ]
  },
  {
   "cell_type": "code",
   "execution_count": 284,
   "metadata": {},
   "outputs": [],
   "source": [
    "fig = go.Figure(go.Funnel(\n",
    "    y = [\"18 ans\",\"16 ans\", \"12 ans\", \"7 ans\", \"3 ans\"],\n",
    "    x = [308, 192, 73, 12, 11],\n",
    "    textinfo=\"label+value+percent total\"\n",
    "))\n",
    "\n",
    "plotio.write_html(fig, file='../graphes/index.html', auto_open=True)\n",
    "\n",
    "\n",
    "import plotly.express as px\n",
    "\n",
    "fig = go.Figure(go.Funnel(\n",
    "    y = [\"aucun age requis\", \"18 ans\",\"16 ans\", \"12 ans\", \"7 ans\", \"3 ans\"],\n",
    "    x = [26479, 192, 73, 12, 11],\n",
    "    textinfo=\"label+value+percent total\"\n",
    "))\n",
    "\n",
    "plotio.write_html(fig, file='../graphes/index.html', auto_open=True)"
   ]
  },
  {
   "cell_type": "code",
   "execution_count": 505,
   "metadata": {},
   "outputs": [],
   "source": [
    "from plotly import graph_objects as go\n",
    "\n",
    "fig = make_subplots(rows=1, cols=2, specs=[[{'type':'domain'}, {'type':'domain'}]])\n",
    "\n",
    "fig.add_trace(go.Funnelarea(\n",
    "    scalegroup = \"first\", values = [26479, 308, 192, 73, 12, 11], textinfo = \"value\",\n",
    "    title = {\"position\": \"top center\", \"text\": \"Sales for Sale Person A in U.S.\"}), 1, 1)\n",
    "\n",
    "fig.add_trace(go.Funnelarea(\n",
    "    scalegroup = \"first\", values = [308, 192, 73, 12, 11], textinfo = \"value\",\n",
    "    title = {\"position\": \"top center\", \"text\": \"Sales of Sale Person B in Canada\"}), 1, 2)\n",
    "\n",
    "plotio.write_html(fig, file='../graphes/index.html', auto_open=True)"
   ]
  },
  {
   "cell_type": "markdown",
   "metadata": {},
   "source": [
    "# Nombre de jeux par année"
   ]
  },
  {
   "cell_type": "code",
   "execution_count": 234,
   "metadata": {},
   "outputs": [
    {
     "data": {
      "text/html": [
       "<div>\n",
       "<style scoped>\n",
       "    .dataframe tbody tr th:only-of-type {\n",
       "        vertical-align: middle;\n",
       "    }\n",
       "\n",
       "    .dataframe tbody tr th {\n",
       "        vertical-align: top;\n",
       "    }\n",
       "\n",
       "    .dataframe thead th {\n",
       "        text-align: right;\n",
       "    }\n",
       "</style>\n",
       "<table border=\"1\" class=\"dataframe\">\n",
       "  <thead>\n",
       "    <tr style=\"text-align: right;\">\n",
       "      <th></th>\n",
       "      <th>Index</th>\n",
       "      <th>id</th>\n",
       "      <th>name</th>\n",
       "      <th>release_date</th>\n",
       "      <th>english</th>\n",
       "      <th>developer</th>\n",
       "      <th>publisher</th>\n",
       "      <th>platforms</th>\n",
       "      <th>required_age</th>\n",
       "      <th>steamspy_tags</th>\n",
       "      <th>positive_ratings</th>\n",
       "      <th>negative_ratings</th>\n",
       "      <th>average_playtime</th>\n",
       "      <th>median_playtime</th>\n",
       "      <th>price</th>\n",
       "      <th>detailed_description</th>\n",
       "      <th>about_the_game</th>\n",
       "      <th>short_description</th>\n",
       "    </tr>\n",
       "  </thead>\n",
       "  <tbody>\n",
       "    <tr>\n",
       "      <th>13748</th>\n",
       "      <td>13748</td>\n",
       "      <td>604900</td>\n",
       "      <td>Get'em Gary</td>\n",
       "      <td>2017-03-11</td>\n",
       "      <td>1</td>\n",
       "      <td>Second Dimension R&amp;T, LLC</td>\n",
       "      <td>Second Dimension R&amp;T, LLC</td>\n",
       "      <td>windows</td>\n",
       "      <td>0</td>\n",
       "      <td>Action;Indie;Casual</td>\n",
       "      <td>1</td>\n",
       "      <td>0</td>\n",
       "      <td>0</td>\n",
       "      <td>0</td>\n",
       "      <td>3.99</td>\n",
       "      <td>&lt;h2 class=\"bb_tag\"&gt;The Story&lt;/h2&gt;The neighborh...</td>\n",
       "      <td>&lt;h2 class=\"bb_tag\"&gt;The Story&lt;/h2&gt;The neighborh...</td>\n",
       "      <td>Inspired by games like Donkey Kong, Wrecking C...</td>\n",
       "    </tr>\n",
       "    <tr>\n",
       "      <th>2796</th>\n",
       "      <td>2796</td>\n",
       "      <td>286120</td>\n",
       "      <td>QuestRun</td>\n",
       "      <td>2014-04-18</td>\n",
       "      <td>1</td>\n",
       "      <td>Cuve Games</td>\n",
       "      <td>Digerati Distribution</td>\n",
       "      <td>windows;mac</td>\n",
       "      <td>0</td>\n",
       "      <td>RPG;Casual;Indie</td>\n",
       "      <td>419</td>\n",
       "      <td>355</td>\n",
       "      <td>365</td>\n",
       "      <td>486</td>\n",
       "      <td>2.09</td>\n",
       "      <td>Challenging and fast-paced with a modern twist...</td>\n",
       "      <td>Challenging and fast-paced with a modern twist...</td>\n",
       "      <td>Challenging and fast-paced with a modern twist...</td>\n",
       "    </tr>\n",
       "    <tr>\n",
       "      <th>7777</th>\n",
       "      <td>7777</td>\n",
       "      <td>432990</td>\n",
       "      <td>Green Game: TimeSwapper</td>\n",
       "      <td>2016-04-04</td>\n",
       "      <td>1</td>\n",
       "      <td>iFun4all S.A.</td>\n",
       "      <td>iFun4all S.A.</td>\n",
       "      <td>windows;mac;linux</td>\n",
       "      <td>0</td>\n",
       "      <td>Indie;Action;Platformer</td>\n",
       "      <td>42</td>\n",
       "      <td>4</td>\n",
       "      <td>249</td>\n",
       "      <td>249</td>\n",
       "      <td>1.99</td>\n",
       "      <td>You are a master of time. You can set it to pa...</td>\n",
       "      <td>You are a master of time. You can set it to pa...</td>\n",
       "      <td>It’s a challenging 2D arcade game where you ar...</td>\n",
       "    </tr>\n",
       "    <tr>\n",
       "      <th>9616</th>\n",
       "      <td>9616</td>\n",
       "      <td>492220</td>\n",
       "      <td>Bohemian Killing</td>\n",
       "      <td>2016-07-21</td>\n",
       "      <td>1</td>\n",
       "      <td>The Moonwalls</td>\n",
       "      <td>Libredia Entertainment</td>\n",
       "      <td>windows;mac</td>\n",
       "      <td>0</td>\n",
       "      <td>Indie;Adventure;First-Person</td>\n",
       "      <td>121</td>\n",
       "      <td>45</td>\n",
       "      <td>0</td>\n",
       "      <td>0</td>\n",
       "      <td>9.99</td>\n",
       "      <td>&lt;strong&gt;Steampunk Paris, set against the backg...</td>\n",
       "      <td>&lt;strong&gt;Steampunk Paris, set against the backg...</td>\n",
       "      <td>Paris, 1894. Class differences and pervasive r...</td>\n",
       "    </tr>\n",
       "    <tr>\n",
       "      <th>25608</th>\n",
       "      <td>25608</td>\n",
       "      <td>978490</td>\n",
       "      <td>Yo My Yo!</td>\n",
       "      <td>2018-12-02</td>\n",
       "      <td>1</td>\n",
       "      <td>StepUnique</td>\n",
       "      <td>StepUnique</td>\n",
       "      <td>windows</td>\n",
       "      <td>0</td>\n",
       "      <td>Indie;Casual;Racing</td>\n",
       "      <td>2</td>\n",
       "      <td>0</td>\n",
       "      <td>0</td>\n",
       "      <td>0</td>\n",
       "      <td>0.79</td>\n",
       "      <td>Yo My Yo! is a simplistic 2D racing game, in w...</td>\n",
       "      <td>Yo My Yo! is a simplistic 2D racing game, in w...</td>\n",
       "      <td>Yo My Yo! is a simplistic 2D racing game, in w...</td>\n",
       "    </tr>\n",
       "  </tbody>\n",
       "</table>\n",
       "</div>"
      ],
      "text/plain": [
       "       Index      id                     name release_date  english  \\\n",
       "13748  13748  604900              Get'em Gary   2017-03-11        1   \n",
       "2796    2796  286120                 QuestRun   2014-04-18        1   \n",
       "7777    7777  432990  Green Game: TimeSwapper   2016-04-04        1   \n",
       "9616    9616  492220         Bohemian Killing   2016-07-21        1   \n",
       "25608  25608  978490                Yo My Yo!   2018-12-02        1   \n",
       "\n",
       "                       developer                  publisher  \\\n",
       "13748  Second Dimension R&T, LLC  Second Dimension R&T, LLC   \n",
       "2796                  Cuve Games      Digerati Distribution   \n",
       "7777               iFun4all S.A.              iFun4all S.A.   \n",
       "9616               The Moonwalls     Libredia Entertainment   \n",
       "25608                 StepUnique                 StepUnique   \n",
       "\n",
       "               platforms  required_age                 steamspy_tags  \\\n",
       "13748            windows             0           Action;Indie;Casual   \n",
       "2796         windows;mac             0              RPG;Casual;Indie   \n",
       "7777   windows;mac;linux             0       Indie;Action;Platformer   \n",
       "9616         windows;mac             0  Indie;Adventure;First-Person   \n",
       "25608            windows             0           Indie;Casual;Racing   \n",
       "\n",
       "       positive_ratings  negative_ratings  average_playtime  median_playtime  \\\n",
       "13748                 1                 0                 0                0   \n",
       "2796                419               355               365              486   \n",
       "7777                 42                 4               249              249   \n",
       "9616                121                45                 0                0   \n",
       "25608                 2                 0                 0                0   \n",
       "\n",
       "       price                               detailed_description  \\\n",
       "13748   3.99  <h2 class=\"bb_tag\">The Story</h2>The neighborh...   \n",
       "2796    2.09  Challenging and fast-paced with a modern twist...   \n",
       "7777    1.99  You are a master of time. You can set it to pa...   \n",
       "9616    9.99  <strong>Steampunk Paris, set against the backg...   \n",
       "25608   0.79  Yo My Yo! is a simplistic 2D racing game, in w...   \n",
       "\n",
       "                                          about_the_game  \\\n",
       "13748  <h2 class=\"bb_tag\">The Story</h2>The neighborh...   \n",
       "2796   Challenging and fast-paced with a modern twist...   \n",
       "7777   You are a master of time. You can set it to pa...   \n",
       "9616   <strong>Steampunk Paris, set against the backg...   \n",
       "25608  Yo My Yo! is a simplistic 2D racing game, in w...   \n",
       "\n",
       "                                       short_description  \n",
       "13748  Inspired by games like Donkey Kong, Wrecking C...  \n",
       "2796   Challenging and fast-paced with a modern twist...  \n",
       "7777   It’s a challenging 2D arcade game where you ar...  \n",
       "9616   Paris, 1894. Class differences and pervasive r...  \n",
       "25608  Yo My Yo! is a simplistic 2D racing game, in w...  "
      ]
     },
     "execution_count": 234,
     "metadata": {},
     "output_type": "execute_result"
    }
   ],
   "source": [
    "data = pd.read_csv(\"data.csv\")\n",
    "df = pd.DataFrame(data)\n",
    "df.sample(5)"
   ]
  },
  {
   "cell_type": "code",
   "execution_count": 502,
   "metadata": {},
   "outputs": [
    {
     "name": "stdout",
     "output_type": "stream",
     "text": [
      "[94 72 62 ...  1  1  1]\n",
      "2619\n",
      "79\n"
     ]
    }
   ],
   "source": [
    "print(df.developer.value_counts().values)\n",
    "\n",
    "ja = df[\"release_date\"].value_counts()\n",
    "ja = ja.sort_index(ascending=True)\n",
    "jav = df[df[\"developer\"] == \"Choice of Games\"]\n",
    "jav = jav[\"release_date\"].value_counts()\n",
    "jav = jav.sort_index(ascending=True)\n",
    "print(len(ja))\n",
    "print(len(jav))"
   ]
  },
  {
   "cell_type": "code",
   "execution_count": 503,
   "metadata": {},
   "outputs": [],
   "source": [
    "import plotly.graph_objects as go\n",
    "import numpy as np\n",
    "\n",
    "fig = go.Figure(data=go.Scatter(x=ja.index, y=ja.values, mode='markers'))\n",
    "fig.update_layout(plot_bgcolor='white')\n",
    "plotio.write_html(fig, file='../graphes/index.html', auto_open=True)"
   ]
  },
  {
   "cell_type": "code",
   "execution_count": 504,
   "metadata": {},
   "outputs": [],
   "source": [
    "fig = go.Figure()\n",
    "fig.add_trace(go.Scatter(x=ja.index, y=ja.values, mode='markers'))                  \n",
    "plotio.write_html(fig, file='../graphes/index.html', auto_open=True)"
   ]
  },
  {
   "cell_type": "code",
   "execution_count": 251,
   "metadata": {},
   "outputs": [],
   "source": [
    "fig = go.Figure()\n",
    "for dev in df.developer.value_counts().index[:20]:\n",
    "    jav = df[df[\"developer\"] == dev]\n",
    "    jav = jav[\"release_date\"].value_counts()\n",
    "    jav = jav.sort_index(ascending=True)\n",
    "    fig.add_trace(go.Scatter(x=jav.index, y=ja.values, mode='markers'))\n",
    "fig.update_layout(plot_bgcolor='white')\n",
    "plotio.write_html(fig, file='../graphes/index.html', auto_open=True)"
   ]
  },
  {
   "cell_type": "markdown",
   "metadata": {},
   "source": [
    "# prix par nombre de jeux"
   ]
  },
  {
   "cell_type": "code",
   "execution_count": 501,
   "metadata": {},
   "outputs": [],
   "source": [
    "sp = df.price.value_counts()\n",
    "sp = sp[sp.index < 100]\n",
    "#print(sp)\n",
    "sp = sp.sort_values(ascending=False)\n",
    "fig = go.Figure(data=go.Scatter(x=sp.values, y=sp.index, mode='markers'))\n",
    "#fig.update_layout(plot_bgcolor='white')\n",
    "plotio.write_html(fig, file='../graphes/index.html', auto_open=True)"
   ]
  },
  {
   "cell_type": "markdown",
   "metadata": {},
   "source": [
    "# developer"
   ]
  },
  {
   "cell_type": "code",
   "execution_count": 493,
   "metadata": {},
   "outputs": [],
   "source": [
    "dev = df.developer.value_counts()\n",
    "#dev = dev[dev.values > 15]\n",
    "dev = dev.sort_values(ascending=False)[:10]\n",
    "dev\n",
    "\n",
    "fig1 = go.Figure(go.Funnelarea(\n",
    "    text = dev.index,\n",
    "    values = dev.values,\n",
    "    textinfo = \"value+text\",\n",
    "    title = {\"position\": \"top center\", \"text\": \"Nombre de jeux sortie par developper\"},\n",
    "    showlegend = False\n",
    "    ))\n",
    "plotio.write_html(fig1, file='../graphes/index.html', auto_open=True)"
   ]
  },
  {
   "cell_type": "markdown",
   "metadata": {},
   "source": [
    "# publisher"
   ]
  },
  {
   "cell_type": "code",
   "execution_count": 494,
   "metadata": {},
   "outputs": [],
   "source": [
    "dev = df.publisher.value_counts()\n",
    "#dev = dev[dev.values > 15]\n",
    "dev = dev.sort_values(ascending=False)[:10]\n",
    "dev \n",
    "\n",
    "fig2 = go.Figure(go.Funnelarea(\n",
    "    text = dev.index,\n",
    "    values = dev.values,\n",
    "    textinfo = \"value+text\",\n",
    "    title = {\"position\": \"top center\", \"text\": \"Nombre de jeux sortie par developper\"},\n",
    "    showlegend = False\n",
    "    ))\n",
    "plotio.write_html(fig2, file='../graphes/index.html', auto_open=True)"
   ]
  },
  {
   "cell_type": "code",
   "execution_count": 495,
   "metadata": {},
   "outputs": [],
   "source": [
    "fig = make_subplots(rows=1, cols=2, specs=[[{'type':'domain'}, {'type':'domain'}]])\n",
    "dev = df.developer.value_counts()\n",
    "#dev = dev[dev.values > 15]\n",
    "dev = dev.sort_values(ascending=False)[:10]\n",
    "fig.add_trace(go.Funnelarea(\n",
    "    text = dev.index,\n",
    "    values = dev.values,\n",
    "    textinfo = \"value+text\",\n",
    "    title = {\"position\": \"top center\", \"text\": \"fig1. Nombre de jeux sortie par developper\"},\n",
    "    showlegend = False\n",
    "    ), 1, 1)\n",
    "dev = df.publisher.value_counts()\n",
    "#dev = dev[dev.values > 15]\n",
    "dev = dev.sort_values(ascending=False)[:10]\n",
    "fig.add_trace(go.Funnelarea(\n",
    "    text = dev.index,\n",
    "    values = dev.values,\n",
    "    textinfo = \"value+text\",\n",
    "    title = {\"position\": \"top center\", \"text\": \"fig2. Nombre de jeux sortie par publieur\"},\n",
    "    showlegend = False\n",
    "    ),1, 2)\n",
    "plotio.write_html(fig, file='../graphes/index.html', auto_open=True)"
   ]
  },
  {
   "cell_type": "markdown",
   "metadata": {},
   "source": [
    "# Ratings"
   ]
  },
  {
   "cell_type": "code",
   "execution_count": 496,
   "metadata": {},
   "outputs": [],
   "source": [
    "df_r = df[['name','negative_ratings','positive_ratings']]\n",
    "nr = df.negative_ratings\n",
    "pr = df.positive_ratings\n",
    "\n",
    "pp_s = []\n",
    "ss = []\n",
    "for ele in zip(nr, pr):\n",
    "    pp = (ele[1]*100)/(ele[0]+ele[1])\n",
    "    ss.append(ele[0] + ele[1])\n",
    "    pp_s.append(pp)"
   ]
  },
  {
   "cell_type": "code",
   "execution_count": 497,
   "metadata": {},
   "outputs": [],
   "source": [
    "pps = pd.Series(pp_s)\n",
    "pss = pd.Series(ss)"
   ]
  },
  {
   "cell_type": "code",
   "execution_count": 498,
   "metadata": {},
   "outputs": [],
   "source": [
    "df_b = df_r.merge(pps.to_frame(), left_index=True, right_index=True)\n",
    "df_b = df_b.merge(pss.to_frame(), left_index=True, right_index=True)\n",
    "df_b.columns = [\"name\",\"nr\",\"pr\",\"prp\", \"sr\"]"
   ]
  },
  {
   "cell_type": "code",
   "execution_count": 499,
   "metadata": {},
   "outputs": [
    {
     "name": "stdout",
     "output_type": "stream",
     "text": [
      "(41, 5)\n",
      "                           name    nr      pr        prp      sr\n",
      "23                     Portal 2  1891  138220  98.650356  140111\n",
      "2964  The Witcher® 3: Wild Hunt  4798  202930  97.690249  207728\n",
      "0                Counter-Strike  3339  124534  97.388815  127873\n",
      "1120                   Terraria  7797  255600  97.039830  263397\n",
      "7175             Stardew Valley  3761  118217  96.916657  121978\n"
     ]
    }
   ],
   "source": [
    "df_b = df_b.query('sr > 100000')\n",
    "df_b = df_b.sort_values(by='prp', ascending=False)\n",
    "print(df_b.shape)\n",
    "print(df_b.head())"
   ]
  },
  {
   "cell_type": "code",
   "execution_count": 500,
   "metadata": {},
   "outputs": [],
   "source": [
    "import plotly.graph_objects as go\n",
    "x = df_b.name\n",
    "fig = go.Figure()\n",
    "nr = [-x for x in df_b.nr]\n",
    "pr = [x for x in df_b.pr]\n",
    "\n",
    "fig.add_trace(go.Bar(x=x, y=pr))\n",
    "fig.add_trace(go.Bar(x=x, y=nr))\n",
    "\n",
    "fig.update_layout(barmode='relative', title_text='Relative Barmode')\n",
    "plotio.write_html(fig, file='../graphes/index.html', auto_open=True)"
   ]
  },
  {
   "cell_type": "code",
   "execution_count": 478,
   "metadata": {},
   "outputs": [
    {
     "name": "stdout",
     "output_type": "stream",
     "text": [
      "(5, 5)\n",
      "                           name    nr      pr        prp      sr\n",
      "23                     Portal 2  1891  138220  98.650356  140111\n",
      "2964  The Witcher® 3: Wild Hunt  4798  202930  97.690249  207728\n",
      "0                Counter-Strike  3339  124534  97.388815  127873\n",
      "1120                   Terraria  7797  255600  97.039830  263397\n",
      "7175             Stardew Valley  3761  118217  96.916657  121978\n"
     ]
    }
   ],
   "source": [
    "df_b = df_r.merge(pps.to_frame(), left_index=True, right_index=True)\n",
    "df_b = df_b.merge(pss.to_frame(), left_index=True, right_index=True)\n",
    "df_b.columns = [\"name\",\"nr\",\"pr\",\"prp\", \"sr\"]\n",
    "df_b = df_b.query('sr > 100000')\n",
    "print(df_b.shape)\n",
    "print(df_b)"
   ]
  },
  {
   "cell_type": "code",
   "execution_count": 492,
   "metadata": {},
   "outputs": [],
   "source": [
    "from plotly import graph_objects as go\n",
    "\n",
    "fig = go.Figure()\n",
    "\n",
    "df_b = df_b.sort_values(by='nr', ascending=False)\n",
    "\n",
    "fig.add_trace(go.Funnel(\n",
    "    name = 'positive ratings',\n",
    "    y = df_b.name,\n",
    "    x = df_b.nr[:5],\n",
    "    textinfo = \"value+percent initial\"))\n",
    "\n",
    "plotio.write_html(fig, file='../graphes/index.html', auto_open=True)"
   ]
  },
  {
   "cell_type": "markdown",
   "metadata": {},
   "source": [
    "# playtime / tag / faire par name"
   ]
  },
  {
   "cell_type": "code",
   "execution_count": 591,
   "metadata": {},
   "outputs": [
    {
     "data": {
      "text/html": [
       "<div>\n",
       "<style scoped>\n",
       "    .dataframe tbody tr th:only-of-type {\n",
       "        vertical-align: middle;\n",
       "    }\n",
       "\n",
       "    .dataframe tbody tr th {\n",
       "        vertical-align: top;\n",
       "    }\n",
       "\n",
       "    .dataframe thead th {\n",
       "        text-align: right;\n",
       "    }\n",
       "</style>\n",
       "<table border=\"1\" class=\"dataframe\">\n",
       "  <thead>\n",
       "    <tr style=\"text-align: right;\">\n",
       "      <th></th>\n",
       "      <th>average_playtime</th>\n",
       "      <th>steamspy_tags</th>\n",
       "      <th>median_playtime</th>\n",
       "    </tr>\n",
       "  </thead>\n",
       "  <tbody>\n",
       "    <tr>\n",
       "      <th>0</th>\n",
       "      <td>17612</td>\n",
       "      <td>Action;FPS;Multiplayer</td>\n",
       "      <td>317</td>\n",
       "    </tr>\n",
       "    <tr>\n",
       "      <th>1</th>\n",
       "      <td>277</td>\n",
       "      <td>Action;FPS;Multiplayer</td>\n",
       "      <td>62</td>\n",
       "    </tr>\n",
       "    <tr>\n",
       "      <th>2</th>\n",
       "      <td>187</td>\n",
       "      <td>FPS;World War II;Multiplayer</td>\n",
       "      <td>34</td>\n",
       "    </tr>\n",
       "    <tr>\n",
       "      <th>3</th>\n",
       "      <td>258</td>\n",
       "      <td>Action;FPS;Multiplayer</td>\n",
       "      <td>184</td>\n",
       "    </tr>\n",
       "    <tr>\n",
       "      <th>4</th>\n",
       "      <td>624</td>\n",
       "      <td>FPS;Action;Sci-fi</td>\n",
       "      <td>415</td>\n",
       "    </tr>\n",
       "  </tbody>\n",
       "</table>\n",
       "</div>"
      ],
      "text/plain": [
       "   average_playtime                 steamspy_tags  median_playtime\n",
       "0             17612        Action;FPS;Multiplayer              317\n",
       "1               277        Action;FPS;Multiplayer               62\n",
       "2               187  FPS;World War II;Multiplayer               34\n",
       "3               258        Action;FPS;Multiplayer              184\n",
       "4               624             FPS;Action;Sci-fi              415"
      ]
     },
     "execution_count": 591,
     "metadata": {},
     "output_type": "execute_result"
    }
   ],
   "source": [
    "df_tp = df[['average_playtime','steamspy_tags', 'median_playtime']]\n",
    "df_tp.head()"
   ]
  },
  {
   "cell_type": "code",
   "execution_count": 592,
   "metadata": {},
   "outputs": [],
   "source": [
    "dicto_tp = {'pt':{},'pt_m':{}}\n",
    "tags_v = df_tp.steamspy_tags.values\n",
    "pt_v = df_tp.average_playtime.values\n",
    "pt_m_v = df_tp.median_playtime.values\n",
    "\n",
    "for i in range(len(tags_v)):\n",
    "    tags = tags_v[i]\n",
    "    if ';' in tags:\n",
    "        tags = tags.split(';')\n",
    "        for tag in tags :\n",
    "            dicto_tp['pt'][tag] = dicto_tp['pt'].get(tag, []) + [pt_v[i]]\n",
    "            dicto_tp['pt_m'][tag] = dicto_tp['pt_m'].get(tag, []) + [pt_m_v[i]]\n",
    "    else :\n",
    "        dicto_tp['pt'][tags] = dicto_tp['pt'].get(tags, []) + [pt_v[i]]\n",
    "        dicto_tp['pt_m'][tags] = dicto_tp['pt_m'].get(tags, []) + [pt_m_v[i]]"
   ]
  },
  {
   "cell_type": "code",
   "execution_count": 593,
   "metadata": {},
   "outputs": [],
   "source": [
    "l_t = []\n",
    "l_p = []\n",
    "l_m_p = []\n",
    "for k, v in dicto_tp['pt'].items():\n",
    "    l_t.append(k)\n",
    "    l_p.append(np.mean(v))\n",
    "    \n",
    "for k, v in dicto_tp['pt_m'].items():\n",
    "    l_m_p.append(np.mean(v))"
   ]
  },
  {
   "cell_type": "code",
   "execution_count": 594,
   "metadata": {},
   "outputs": [],
   "source": [
    "l_p = pd.Series(l_p)\n",
    "l_t = pd.Series(l_t)\n",
    "l_m_p = pd.Series(l_m_p)\n",
    "df_n = l_t.to_frame()\n",
    "df_n = df_n.merge(l_p.to_frame(), left_index=True, right_index=True)\n",
    "df_n = df_n.merge(l_m_p.to_frame(), left_index=True, right_index=True)\n",
    "df_n.columns = [\"t\",\"pt\", 'm_pt']"
   ]
  },
  {
   "cell_type": "code",
   "execution_count": 595,
   "metadata": {},
   "outputs": [
    {
     "data": {
      "text/html": [
       "<div>\n",
       "<style scoped>\n",
       "    .dataframe tbody tr th:only-of-type {\n",
       "        vertical-align: middle;\n",
       "    }\n",
       "\n",
       "    .dataframe tbody tr th {\n",
       "        vertical-align: top;\n",
       "    }\n",
       "\n",
       "    .dataframe thead th {\n",
       "        text-align: right;\n",
       "    }\n",
       "</style>\n",
       "<table border=\"1\" class=\"dataframe\">\n",
       "  <thead>\n",
       "    <tr style=\"text-align: right;\">\n",
       "      <th></th>\n",
       "      <th>t</th>\n",
       "      <th>pt</th>\n",
       "      <th>m_pt</th>\n",
       "    </tr>\n",
       "  </thead>\n",
       "  <tbody>\n",
       "    <tr>\n",
       "      <th>0</th>\n",
       "      <td>Action</td>\n",
       "      <td>83.284538</td>\n",
       "      <td>77.184848</td>\n",
       "    </tr>\n",
       "    <tr>\n",
       "      <th>1</th>\n",
       "      <td>FPS</td>\n",
       "      <td>470.479012</td>\n",
       "      <td>284.148148</td>\n",
       "    </tr>\n",
       "    <tr>\n",
       "      <th>2</th>\n",
       "      <td>Multiplayer</td>\n",
       "      <td>1031.708642</td>\n",
       "      <td>514.266667</td>\n",
       "    </tr>\n",
       "    <tr>\n",
       "      <th>3</th>\n",
       "      <td>World War II</td>\n",
       "      <td>440.100000</td>\n",
       "      <td>378.076923</td>\n",
       "    </tr>\n",
       "    <tr>\n",
       "      <th>4</th>\n",
       "      <td>Sci-fi</td>\n",
       "      <td>303.363057</td>\n",
       "      <td>281.286624</td>\n",
       "    </tr>\n",
       "  </tbody>\n",
       "</table>\n",
       "</div>"
      ],
      "text/plain": [
       "              t           pt        m_pt\n",
       "0        Action    83.284538   77.184848\n",
       "1           FPS   470.479012  284.148148\n",
       "2   Multiplayer  1031.708642  514.266667\n",
       "3  World War II   440.100000  378.076923\n",
       "4        Sci-fi   303.363057  281.286624"
      ]
     },
     "execution_count": 595,
     "metadata": {},
     "output_type": "execute_result"
    }
   ],
   "source": [
    "df_n.head()"
   ]
  },
  {
   "cell_type": "code",
   "execution_count": null,
   "metadata": {},
   "outputs": [],
   "source": []
  },
  {
   "cell_type": "code",
   "execution_count": 596,
   "metadata": {},
   "outputs": [],
   "source": [
    "df_n = df_n.sort_values(by='pt', ascending=False)\n",
    "list_pt = [int(t) for t in df_n.pt.values]\n",
    "list_m_pt = [int(t) for t in df_n.m_pt.values]\n",
    "list_t = df_n.t.values\n",
    "\n",
    "import plotly.graph_objects as go\n",
    "\n",
    "months = list_t\n",
    "\n",
    "fig = go.Figure()\n",
    "fig.add_trace(go.Bar(\n",
    "    x=months,\n",
    "    y=list_pt,\n",
    "    name='Secondary Product',\n",
    "    marker_color='lightsalmon'\n",
    "))\n",
    "\n",
    "# Here we modify the tickangle of the xaxis, resulting in rotated labels.\n",
    "fig.update_layout(barmode='group', xaxis_tickangle=-45)\n",
    "plotio.write_html(fig, file='../graphes/index.html', auto_open=True)"
   ]
  },
  {
   "cell_type": "code",
   "execution_count": 597,
   "metadata": {},
   "outputs": [],
   "source": [
    "df_n = df_n.sort_values(by='m_pt', ascending=False)\n",
    "list_pt = [int(t) for t in df_n.pt.values]\n",
    "list_m_pt = [int(t) for t in df_n.m_pt.values]\n",
    "list_t = df_n.t.values\n",
    "\n",
    "import plotly.graph_objects as go\n",
    "\n",
    "months = list_t\n",
    "\n",
    "fig = go.Figure()\n",
    "fig.add_trace(go.Bar(\n",
    "    x=months,\n",
    "    y=list_m_pt,\n",
    "    name='Secondary Product',\n",
    "    marker_color='lightsalmon'\n",
    "))\n",
    "\n",
    "# Here we modify the tickangle of the xaxis, resulting in rotated labels.\n",
    "fig.update_layout(barmode='group', xaxis_tickangle=-45)\n",
    "plotio.write_html(fig, file='../graphes/index.html', auto_open=True)"
   ]
  },
  {
   "cell_type": "code",
   "execution_count": 587,
   "metadata": {},
   "outputs": [
    {
     "data": {
      "text/html": [
       "<div>\n",
       "<style scoped>\n",
       "    .dataframe tbody tr th:only-of-type {\n",
       "        vertical-align: middle;\n",
       "    }\n",
       "\n",
       "    .dataframe tbody tr th {\n",
       "        vertical-align: top;\n",
       "    }\n",
       "\n",
       "    .dataframe thead th {\n",
       "        text-align: right;\n",
       "    }\n",
       "</style>\n",
       "<table border=\"1\" class=\"dataframe\">\n",
       "  <thead>\n",
       "    <tr style=\"text-align: right;\">\n",
       "      <th></th>\n",
       "      <th>t</th>\n",
       "      <th>pt</th>\n",
       "      <th>m_pt</th>\n",
       "      <th>d</th>\n",
       "    </tr>\n",
       "  </thead>\n",
       "  <tbody>\n",
       "    <tr>\n",
       "      <th>0</th>\n",
       "      <td>Software</td>\n",
       "      <td>3238</td>\n",
       "      <td>6184</td>\n",
       "      <td>2946</td>\n",
       "    </tr>\n",
       "    <tr>\n",
       "      <th>145</th>\n",
       "      <td>MOBA</td>\n",
       "      <td>2120</td>\n",
       "      <td>165</td>\n",
       "      <td>1955</td>\n",
       "    </tr>\n",
       "    <tr>\n",
       "      <th>15</th>\n",
       "      <td>MMORPG</td>\n",
       "      <td>2626</td>\n",
       "      <td>1078</td>\n",
       "      <td>1548</td>\n",
       "    </tr>\n",
       "    <tr>\n",
       "      <th>28</th>\n",
       "      <td>Military</td>\n",
       "      <td>2095</td>\n",
       "      <td>700</td>\n",
       "      <td>1395</td>\n",
       "    </tr>\n",
       "    <tr>\n",
       "      <th>7</th>\n",
       "      <td>Resource Management</td>\n",
       "      <td>2155</td>\n",
       "      <td>1480</td>\n",
       "      <td>675</td>\n",
       "    </tr>\n",
       "  </tbody>\n",
       "</table>\n",
       "</div>"
      ],
      "text/plain": [
       "                       t    pt  m_pt     d\n",
       "0               Software  3238  6184  2946\n",
       "145                 MOBA  2120   165  1955\n",
       "15                MMORPG  2626  1078  1548\n",
       "28              Military  2095   700  1395\n",
       "7    Resource Management  2155  1480   675"
      ]
     },
     "execution_count": 587,
     "metadata": {},
     "output_type": "execute_result"
    }
   ],
   "source": [
    "df_n = df_n.sort_values(by='m_pt', ascending=False)\n",
    "list_pt = [int(t) for t in df_n.pt.values]\n",
    "list_m_pt = [int(t) for t in df_n.m_pt.values]\n",
    "list_t = df_n.t.values\n",
    "\n",
    "list_dif = []\n",
    "for i in range(len(list_t)):\n",
    "    dif = list_pt[i] - list_m_pt[i]\n",
    "    if dif < 0:\n",
    "        dif = -dif\n",
    "    list_dif.append(dif)\n",
    "    \n",
    "l_t = pd.Series(list_t)\n",
    "l_m_p = pd.Series(list_m_pt)\n",
    "l_p = pd.Series(list_pt)\n",
    "l_d = pd.Series(list_dif)\n",
    "df_m = l_t.to_frame()\n",
    "df_m = df_n.merge(l_p.to_frame(), left_index=True, right_index=True)\n",
    "df_m = df_n.merge(l_m_p.to_frame(), left_index=True, right_index=True)\n",
    "df_m = df_n.merge(l_d.to_frame(), left_index=True, right_index=True)\n",
    "df_m.columns = [\"t\",\"pt\", 'm_pt','d']\n",
    "df_m = df_m.sort_values(by='d', ascending=False)\n",
    "df_m.head()"
   ]
  },
  {
   "cell_type": "code",
   "execution_count": 589,
   "metadata": {},
   "outputs": [],
   "source": [
    "months = list_t\n",
    "n=10\n",
    "\n",
    "fig = go.Figure()\n",
    "fig.add_trace(go.Bar(\n",
    "    x=df_m.t.values[:n],\n",
    "    y=df_m.d.values[:n],\n",
    "    name='Secondary Product',\n",
    "    marker_color='lightsalmon'\n",
    "))\n",
    "\n",
    "# Here we modify the tickangle of the xaxis, resulting in rotated labels.\n",
    "fig.update_layout(barmode='group', xaxis_tickangle=-45)\n",
    "plotio.write_html(fig, file='../graphes/index.html', auto_open=True)"
   ]
  },
  {
   "cell_type": "code",
   "execution_count": null,
   "metadata": {},
   "outputs": [],
   "source": []
  }
 ],
 "metadata": {
  "kernelspec": {
   "display_name": "Python 3",
   "language": "python",
   "name": "python3"
  },
  "language_info": {
   "codemirror_mode": {
    "name": "ipython",
    "version": 3
   },
   "file_extension": ".py",
   "mimetype": "text/x-python",
   "name": "python",
   "nbconvert_exporter": "python",
   "pygments_lexer": "ipython3",
   "version": "3.7.3"
  }
 },
 "nbformat": 4,
 "nbformat_minor": 4
}
